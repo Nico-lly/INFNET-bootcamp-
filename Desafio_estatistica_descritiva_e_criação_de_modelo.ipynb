{
  "nbformat": 4,
  "nbformat_minor": 0,
  "metadata": {
    "colab": {
      "name": "Desafio: estatistica descritiva e criação de modelo.ipynb",
      "provenance": [],
      "collapsed_sections": [],
      "authorship_tag": "ABX9TyNh7S4O8YVhst0l/nZhi+kU",
      "include_colab_link": true
    },
    "kernelspec": {
      "display_name": "Python 3",
      "name": "python3"
    }
  },
  "cells": [
    {
      "cell_type": "markdown",
      "metadata": {
        "id": "view-in-github",
        "colab_type": "text"
      },
      "source": [
        "<a href=\"https://colab.research.google.com/github/Nico-lly/INFNET-bootcamp-/blob/main/Desafio_estatistica_descritiva_e_cria%C3%A7%C3%A3o_de_modelo.ipynb\" target=\"_parent\"><img src=\"https://colab.research.google.com/assets/colab-badge.svg\" alt=\"Open In Colab\"/></a>"
      ]
    },
    {
      "cell_type": "markdown",
      "metadata": {
        "id": "WT3MeyN2syTd"
      },
      "source": [
        "Usando os dados de weatherHistory.csv : \n",
        "\n",
        " 1 ) Limpar os dados (se e quando necessário) \n",
        "\n",
        " 2)  Verificar as correlações entre as diversas colunas de dados\n",
        "\n",
        " 3)  Analisar se existe uma relação entre Umidade e Temperatura?\n",
        "\n",
        " 4)  Construir um modelo de predição que dado a Umidade calcule a temperatura\n",
        "\n",
        "    3.1 ) Testar os  modelos de simples e Polinomial \n",
        " \n",
        "    3.2)  Avaliar cada um dos modelos e determinar qual seria o recomendado (com justificativas) \n",
        " \n",
        " 5)  Implementar um(s) modelo(s) de regressão linear usando Umidade e Visibilidade com \"features\" e temperatura como valor a se predizer\n",
        "\n",
        " 6)  Discutir e apresentar os resultados \n"
      ]
    },
    {
      "cell_type": "code",
      "metadata": {
        "id": "la7n8g7ksv0K"
      },
      "source": [
        "import pandas as pd\n",
        "import matplotlib.pyplot as plt\n",
        "%matplotlib inline \n",
        "import seaborn as sns\n",
        "import numpy as np\n",
        "from sklearn.linear_model import LinearRegression"
      ],
      "execution_count": null,
      "outputs": []
    },
    {
      "cell_type": "markdown",
      "metadata": {
        "id": "6G-YTGTKFuQU"
      },
      "source": [
        "Abrindo e conhecendo os dados"
      ]
    },
    {
      "cell_type": "code",
      "metadata": {
        "colab": {
          "base_uri": "https://localhost:8080/"
        },
        "id": "Oib2WBg2tFXW",
        "outputId": "844a734e-19c6-4ecb-9068-ca60c670b0d8"
      },
      "source": [
        "\n",
        "\n",
        "weatherHistory = pd.read_csv('https://raw.githubusercontent.com/CharlesPrado23/Notebooks/main/RegressaoLinear/weatherHistory.csv')\n",
        "weatherHistory.shape"
      ],
      "execution_count": null,
      "outputs": [
        {
          "output_type": "execute_result",
          "data": {
            "text/plain": [
              "(96453, 12)"
            ]
          },
          "metadata": {
            "tags": []
          },
          "execution_count": 4
        }
      ]
    },
    {
      "cell_type": "code",
      "metadata": {
        "colab": {
          "base_uri": "https://localhost:8080/"
        },
        "id": "8ovTlGKQCf6W",
        "outputId": "a193f40b-bcbf-4104-fa31-37ee5030ac9e"
      },
      "source": [
        "weatherHistory.dtypes"
      ],
      "execution_count": null,
      "outputs": [
        {
          "output_type": "execute_result",
          "data": {
            "text/plain": [
              "Formatted Date               object\n",
              "Summary                      object\n",
              "Precip Type                  object\n",
              "Temperature (C)             float64\n",
              "Apparent Temperature (C)    float64\n",
              "Humidity                    float64\n",
              "Wind Speed (km/h)           float64\n",
              "Wind Bearing (degrees)      float64\n",
              "Visibility (km)             float64\n",
              "Loud Cover                  float64\n",
              "Pressure (millibars)        float64\n",
              "Daily Summary                object\n",
              "dtype: object"
            ]
          },
          "metadata": {
            "tags": []
          },
          "execution_count": 5
        }
      ]
    },
    {
      "cell_type": "code",
      "metadata": {
        "colab": {
          "base_uri": "https://localhost:8080/"
        },
        "id": "hrtL6r8btOzI",
        "outputId": "9bf11154-5df8-4c82-df20-7fcaa00bae11"
      },
      "source": [
        "\n",
        "weatherHistory.notna"
      ],
      "execution_count": null,
      "outputs": [
        {
          "output_type": "execute_result",
          "data": {
            "text/plain": [
              "<bound method DataFrame.notna of                       Formatted Date  ...                           Daily Summary\n",
              "0      2006-04-01 00:00:00.000 +0200  ...       Partly cloudy throughout the day.\n",
              "1      2006-04-01 01:00:00.000 +0200  ...       Partly cloudy throughout the day.\n",
              "2      2006-04-01 02:00:00.000 +0200  ...       Partly cloudy throughout the day.\n",
              "3      2006-04-01 03:00:00.000 +0200  ...       Partly cloudy throughout the day.\n",
              "4      2006-04-01 04:00:00.000 +0200  ...       Partly cloudy throughout the day.\n",
              "...                              ...  ...                                     ...\n",
              "96448  2016-09-09 19:00:00.000 +0200  ...  Partly cloudy starting in the morning.\n",
              "96449  2016-09-09 20:00:00.000 +0200  ...  Partly cloudy starting in the morning.\n",
              "96450  2016-09-09 21:00:00.000 +0200  ...  Partly cloudy starting in the morning.\n",
              "96451  2016-09-09 22:00:00.000 +0200  ...  Partly cloudy starting in the morning.\n",
              "96452  2016-09-09 23:00:00.000 +0200  ...  Partly cloudy starting in the morning.\n",
              "\n",
              "[96453 rows x 12 columns]>"
            ]
          },
          "metadata": {
            "tags": []
          },
          "execution_count": 6
        }
      ]
    },
    {
      "cell_type": "code",
      "metadata": {
        "colab": {
          "base_uri": "https://localhost:8080/"
        },
        "id": "ENI0kWB-D_-0",
        "outputId": "fb28a81b-e72a-44fb-81c7-a6a7ac33f878"
      },
      "source": [
        "#ISSO AQUI É TOP \n",
        "\n",
        "weatherHistory.info()"
      ],
      "execution_count": null,
      "outputs": [
        {
          "output_type": "stream",
          "text": [
            "<class 'pandas.core.frame.DataFrame'>\n",
            "RangeIndex: 96453 entries, 0 to 96452\n",
            "Data columns (total 12 columns):\n",
            " #   Column                    Non-Null Count  Dtype  \n",
            "---  ------                    --------------  -----  \n",
            " 0   Formatted Date            96453 non-null  object \n",
            " 1   Summary                   96453 non-null  object \n",
            " 2   Precip Type               95936 non-null  object \n",
            " 3   Temperature (C)           96453 non-null  float64\n",
            " 4   Apparent Temperature (C)  96453 non-null  float64\n",
            " 5   Humidity                  96453 non-null  float64\n",
            " 6   Wind Speed (km/h)         96453 non-null  float64\n",
            " 7   Wind Bearing (degrees)    96453 non-null  float64\n",
            " 8   Visibility (km)           96453 non-null  float64\n",
            " 9   Loud Cover                96453 non-null  float64\n",
            " 10  Pressure (millibars)      96453 non-null  float64\n",
            " 11  Daily Summary             96453 non-null  object \n",
            "dtypes: float64(8), object(4)\n",
            "memory usage: 8.8+ MB\n"
          ],
          "name": "stdout"
        }
      ]
    },
    {
      "cell_type": "code",
      "metadata": {
        "colab": {
          "base_uri": "https://localhost:8080/",
          "height": 306
        },
        "id": "cEDKUQIvwJkP",
        "outputId": "70fe81a1-c2cf-4235-b03b-06e4a25ad7d6"
      },
      "source": [
        "weatherHistory.head()"
      ],
      "execution_count": null,
      "outputs": [
        {
          "output_type": "execute_result",
          "data": {
            "text/html": [
              "<div>\n",
              "<style scoped>\n",
              "    .dataframe tbody tr th:only-of-type {\n",
              "        vertical-align: middle;\n",
              "    }\n",
              "\n",
              "    .dataframe tbody tr th {\n",
              "        vertical-align: top;\n",
              "    }\n",
              "\n",
              "    .dataframe thead th {\n",
              "        text-align: right;\n",
              "    }\n",
              "</style>\n",
              "<table border=\"1\" class=\"dataframe\">\n",
              "  <thead>\n",
              "    <tr style=\"text-align: right;\">\n",
              "      <th></th>\n",
              "      <th>Formatted Date</th>\n",
              "      <th>Summary</th>\n",
              "      <th>Precip Type</th>\n",
              "      <th>Temperature (C)</th>\n",
              "      <th>Apparent Temperature (C)</th>\n",
              "      <th>Humidity</th>\n",
              "      <th>Wind Speed (km/h)</th>\n",
              "      <th>Wind Bearing (degrees)</th>\n",
              "      <th>Visibility (km)</th>\n",
              "      <th>Loud Cover</th>\n",
              "      <th>Pressure (millibars)</th>\n",
              "      <th>Daily Summary</th>\n",
              "    </tr>\n",
              "  </thead>\n",
              "  <tbody>\n",
              "    <tr>\n",
              "      <th>0</th>\n",
              "      <td>2006-04-01 00:00:00.000 +0200</td>\n",
              "      <td>Partly Cloudy</td>\n",
              "      <td>rain</td>\n",
              "      <td>9.472222</td>\n",
              "      <td>7.388889</td>\n",
              "      <td>0.89</td>\n",
              "      <td>14.1197</td>\n",
              "      <td>251.0</td>\n",
              "      <td>15.8263</td>\n",
              "      <td>0.0</td>\n",
              "      <td>1015.13</td>\n",
              "      <td>Partly cloudy throughout the day.</td>\n",
              "    </tr>\n",
              "    <tr>\n",
              "      <th>1</th>\n",
              "      <td>2006-04-01 01:00:00.000 +0200</td>\n",
              "      <td>Partly Cloudy</td>\n",
              "      <td>rain</td>\n",
              "      <td>9.355556</td>\n",
              "      <td>7.227778</td>\n",
              "      <td>0.86</td>\n",
              "      <td>14.2646</td>\n",
              "      <td>259.0</td>\n",
              "      <td>15.8263</td>\n",
              "      <td>0.0</td>\n",
              "      <td>1015.63</td>\n",
              "      <td>Partly cloudy throughout the day.</td>\n",
              "    </tr>\n",
              "    <tr>\n",
              "      <th>2</th>\n",
              "      <td>2006-04-01 02:00:00.000 +0200</td>\n",
              "      <td>Mostly Cloudy</td>\n",
              "      <td>rain</td>\n",
              "      <td>9.377778</td>\n",
              "      <td>9.377778</td>\n",
              "      <td>0.89</td>\n",
              "      <td>3.9284</td>\n",
              "      <td>204.0</td>\n",
              "      <td>14.9569</td>\n",
              "      <td>0.0</td>\n",
              "      <td>1015.94</td>\n",
              "      <td>Partly cloudy throughout the day.</td>\n",
              "    </tr>\n",
              "    <tr>\n",
              "      <th>3</th>\n",
              "      <td>2006-04-01 03:00:00.000 +0200</td>\n",
              "      <td>Partly Cloudy</td>\n",
              "      <td>rain</td>\n",
              "      <td>8.288889</td>\n",
              "      <td>5.944444</td>\n",
              "      <td>0.83</td>\n",
              "      <td>14.1036</td>\n",
              "      <td>269.0</td>\n",
              "      <td>15.8263</td>\n",
              "      <td>0.0</td>\n",
              "      <td>1016.41</td>\n",
              "      <td>Partly cloudy throughout the day.</td>\n",
              "    </tr>\n",
              "    <tr>\n",
              "      <th>4</th>\n",
              "      <td>2006-04-01 04:00:00.000 +0200</td>\n",
              "      <td>Mostly Cloudy</td>\n",
              "      <td>rain</td>\n",
              "      <td>8.755556</td>\n",
              "      <td>6.977778</td>\n",
              "      <td>0.83</td>\n",
              "      <td>11.0446</td>\n",
              "      <td>259.0</td>\n",
              "      <td>15.8263</td>\n",
              "      <td>0.0</td>\n",
              "      <td>1016.51</td>\n",
              "      <td>Partly cloudy throughout the day.</td>\n",
              "    </tr>\n",
              "  </tbody>\n",
              "</table>\n",
              "</div>"
            ],
            "text/plain": [
              "                  Formatted Date  ...                      Daily Summary\n",
              "0  2006-04-01 00:00:00.000 +0200  ...  Partly cloudy throughout the day.\n",
              "1  2006-04-01 01:00:00.000 +0200  ...  Partly cloudy throughout the day.\n",
              "2  2006-04-01 02:00:00.000 +0200  ...  Partly cloudy throughout the day.\n",
              "3  2006-04-01 03:00:00.000 +0200  ...  Partly cloudy throughout the day.\n",
              "4  2006-04-01 04:00:00.000 +0200  ...  Partly cloudy throughout the day.\n",
              "\n",
              "[5 rows x 12 columns]"
            ]
          },
          "metadata": {
            "tags": []
          },
          "execution_count": 8
        }
      ]
    },
    {
      "cell_type": "code",
      "metadata": {
        "colab": {
          "base_uri": "https://localhost:8080/"
        },
        "id": "NtgFRdHOwkDd",
        "outputId": "51c45b9e-ed15-48af-ed41-e9ae5163289d"
      },
      "source": [
        "weatherHistory['Precip Type'].unique()"
      ],
      "execution_count": null,
      "outputs": [
        {
          "output_type": "execute_result",
          "data": {
            "text/plain": [
              "array(['rain', 'snow', nan], dtype=object)"
            ]
          },
          "metadata": {
            "tags": []
          },
          "execution_count": 9
        }
      ]
    },
    {
      "cell_type": "code",
      "metadata": {
        "colab": {
          "base_uri": "https://localhost:8080/"
        },
        "id": "kazmwE53E9QX",
        "outputId": "9d3dedb6-9239-4dbd-f3f9-4037bd67b89b"
      },
      "source": [
        "#ISSO AQUI É TOP \n",
        "\n",
        "weatherHistory['Precip Type'].value_counts()"
      ],
      "execution_count": null,
      "outputs": [
        {
          "output_type": "execute_result",
          "data": {
            "text/plain": [
              "rain    85224\n",
              "snow    10712\n",
              "Name: Precip Type, dtype: int64"
            ]
          },
          "metadata": {
            "tags": []
          },
          "execution_count": 10
        }
      ]
    },
    {
      "cell_type": "code",
      "metadata": {
        "colab": {
          "base_uri": "https://localhost:8080/"
        },
        "id": "FCo0Nyc4xDcR",
        "outputId": "74e980db-d026-4367-a22d-40afd1270ad0"
      },
      "source": [
        "weatherHistory['Summary'].unique()"
      ],
      "execution_count": null,
      "outputs": [
        {
          "output_type": "execute_result",
          "data": {
            "text/plain": [
              "array(['Partly Cloudy', 'Mostly Cloudy', 'Overcast', 'Foggy',\n",
              "       'Breezy and Mostly Cloudy', 'Clear', 'Breezy and Partly Cloudy',\n",
              "       'Breezy and Overcast', 'Humid and Mostly Cloudy',\n",
              "       'Humid and Partly Cloudy', 'Windy and Foggy', 'Windy and Overcast',\n",
              "       'Breezy and Foggy', 'Windy and Partly Cloudy', 'Breezy',\n",
              "       'Dry and Partly Cloudy', 'Windy and Mostly Cloudy',\n",
              "       'Dangerously Windy and Partly Cloudy', 'Dry', 'Windy',\n",
              "       'Humid and Overcast', 'Light Rain', 'Drizzle', 'Windy and Dry',\n",
              "       'Dry and Mostly Cloudy', 'Breezy and Dry', 'Rain'], dtype=object)"
            ]
          },
          "metadata": {
            "tags": []
          },
          "execution_count": 11
        }
      ]
    },
    {
      "cell_type": "code",
      "metadata": {
        "colab": {
          "base_uri": "https://localhost:8080/"
        },
        "id": "MJYWnRzryf3K",
        "outputId": "096cd8ef-0ade-43e6-8229-083c57b47f08"
      },
      "source": [
        "weatherHistory['Daily Summary'].unique()"
      ],
      "execution_count": null,
      "outputs": [
        {
          "output_type": "execute_result",
          "data": {
            "text/plain": [
              "array(['Partly cloudy throughout the day.',\n",
              "       'Mostly cloudy throughout the day.', 'Foggy in the evening.',\n",
              "       'Foggy overnight and breezy in the morning.',\n",
              "       'Overcast throughout the day.', 'Partly cloudy until night.',\n",
              "       'Mostly cloudy until night.',\n",
              "       'Foggy starting overnight continuing until morning.',\n",
              "       'Foggy in the morning.', 'Partly cloudy until evening.',\n",
              "       'Partly cloudy starting in the morning.',\n",
              "       'Mostly cloudy starting overnight continuing until night.',\n",
              "       'Mostly cloudy until evening.',\n",
              "       'Partly cloudy starting in the morning continuing until evening.',\n",
              "       'Partly cloudy starting in the afternoon.',\n",
              "       'Partly cloudy starting overnight.',\n",
              "       'Partly cloudy until morning.',\n",
              "       'Partly cloudy starting overnight continuing until night.',\n",
              "       'Partly cloudy starting in the afternoon continuing until night.',\n",
              "       'Mostly cloudy starting overnight.',\n",
              "       'Partly cloudy until afternoon.',\n",
              "       'Mostly cloudy until night and breezy in the afternoon.',\n",
              "       'Foggy starting in the evening.', 'Foggy throughout the day.',\n",
              "       'Foggy starting in the evening continuing until night.',\n",
              "       'Mostly cloudy until morning.',\n",
              "       'Foggy starting in the morning continuing until evening.',\n",
              "       'Foggy starting overnight continuing until afternoon.',\n",
              "       'Partly cloudy starting in the morning continuing until afternoon.',\n",
              "       'Foggy starting overnight.', 'Foggy until morning.',\n",
              "       'Foggy starting overnight continuing until evening.',\n",
              "       'Foggy starting in the afternoon.',\n",
              "       'Partly cloudy starting overnight continuing until afternoon.',\n",
              "       'Partly cloudy starting in the morning continuing until night.',\n",
              "       'Overcast until night.',\n",
              "       'Mostly cloudy starting overnight continuing until evening.',\n",
              "       'Foggy overnight.', 'Partly cloudy in the morning.',\n",
              "       'Mostly cloudy starting in the morning.',\n",
              "       'Foggy starting in the afternoon continuing until evening.',\n",
              "       'Mostly cloudy until afternoon.',\n",
              "       'Foggy starting overnight continuing until night.',\n",
              "       'Mostly cloudy throughout the day and breezy in the evening.',\n",
              "       'Foggy starting in the morning continuing until afternoon.',\n",
              "       'Partly cloudy in the afternoon.', 'Clear throughout the day.',\n",
              "       'Partly cloudy starting in the afternoon continuing until evening.',\n",
              "       'Partly cloudy overnight.', 'Overcast until evening.',\n",
              "       'Foggy in the morning and breezy starting in the afternoon continuing until night.',\n",
              "       'Breezy starting overnight continuing until afternoon and foggy starting in the morning continuing until evening.',\n",
              "       'Partly cloudy starting overnight continuing until morning.',\n",
              "       'Mostly cloudy throughout the day and breezy in the afternoon.',\n",
              "       'Mostly cloudy starting overnight and breezy in the afternoon.',\n",
              "       'Partly cloudy throughout the day and breezy starting in the morning continuing until night.',\n",
              "       'Mostly cloudy throughout the day and breezy in the morning.',\n",
              "       'Partly cloudy starting in the evening continuing until night.',\n",
              "       'Mostly cloudy until night and breezy starting in the morning continuing until afternoon.',\n",
              "       'Partly cloudy starting in the morning continuing until evening and breezy starting in the morning continuing until afternoon.',\n",
              "       'Partly cloudy throughout the day and breezy starting in the morning continuing until afternoon.',\n",
              "       'Partly cloudy throughout the day and breezy starting in the morning continuing until evening.',\n",
              "       'Foggy until afternoon.',\n",
              "       'Overcast until night and breezy overnight.',\n",
              "       'Breezy until morning and mostly cloudy throughout the day.',\n",
              "       'Mostly cloudy starting in the morning continuing until night.',\n",
              "       'Breezy starting overnight continuing until morning and partly cloudy starting overnight continuing until evening.',\n",
              "       'Partly cloudy in the evening.',\n",
              "       'Mostly cloudy starting overnight continuing until afternoon.',\n",
              "       'Mostly cloudy starting in the morning continuing until afternoon.',\n",
              "       'Mostly cloudy starting in the afternoon.',\n",
              "       'Mostly cloudy starting in the morning continuing until evening.',\n",
              "       'Partly cloudy starting overnight continuing until afternoon and breezy in the afternoon.',\n",
              "       'Partly cloudy starting overnight and breezy in the afternoon.',\n",
              "       'Mostly cloudy starting in the morning and breezy in the evening.',\n",
              "       'Foggy starting in the afternoon continuing until night.',\n",
              "       'Foggy until night.',\n",
              "       'Foggy starting in the morning continuing until night.',\n",
              "       'Foggy until evening.', 'Foggy starting in the morning.',\n",
              "       'Partly cloudy starting overnight continuing until evening.',\n",
              "       'Partly cloudy starting overnight continuing until evening and breezy starting in the morning continuing until evening.',\n",
              "       'Breezy starting overnight continuing until morning and foggy in the evening.',\n",
              "       'Mostly cloudy throughout the day and breezy starting in the morning continuing until evening.',\n",
              "       'Partly cloudy until evening and breezy starting in the morning continuing until afternoon.',\n",
              "       'Mostly cloudy starting in the afternoon continuing until night.',\n",
              "       'Breezy starting overnight continuing until afternoon and mostly cloudy starting overnight continuing until evening.',\n",
              "       'Mostly cloudy throughout the day and windy starting in the morning continuing until evening.',\n",
              "       'Breezy and partly cloudy in the afternoon.',\n",
              "       'Mostly cloudy starting overnight and breezy starting in the morning continuing until afternoon.',\n",
              "       'Partly cloudy until night and breezy starting in the morning continuing until afternoon.',\n",
              "       'Breezy and mostly cloudy overnight.',\n",
              "       'Mostly cloudy throughout the day and breezy overnight.',\n",
              "       'Mostly cloudy throughout the day and breezy starting in the morning continuing until afternoon.',\n",
              "       'Partly cloudy throughout the day and breezy in the morning.',\n",
              "       'Partly cloudy starting in the morning continuing until evening and breezy starting in the afternoon continuing until evening.',\n",
              "       'Partly cloudy throughout the day and breezy starting in the afternoon continuing until evening.',\n",
              "       'Mostly cloudy starting overnight and breezy in the morning.',\n",
              "       'Partly cloudy starting in the afternoon and breezy in the afternoon.',\n",
              "       'Partly cloudy starting in the morning and breezy in the evening.',\n",
              "       'Partly cloudy until evening and breezy in the morning.',\n",
              "       'Partly cloudy starting overnight continuing until evening and breezy starting in the morning continuing until afternoon.',\n",
              "       'Partly cloudy starting overnight continuing until evening and breezy in the evening.',\n",
              "       'Mostly cloudy throughout the day and breezy starting in the evening.',\n",
              "       'Mostly cloudy throughout the day and windy starting in the morning continuing until night.',\n",
              "       'Breezy starting overnight continuing until morning and partly cloudy starting in the morning.',\n",
              "       'Mostly cloudy starting in the morning and breezy overnight.',\n",
              "       'Overcast throughout the day and breezy starting overnight continuing until morning.',\n",
              "       'Partly cloudy throughout the day and breezy in the evening.',\n",
              "       'Mostly cloudy until evening and breezy starting in the morning continuing until afternoon.',\n",
              "       'Mostly cloudy until night and breezy in the evening.',\n",
              "       'Partly cloudy starting in the evening.',\n",
              "       'Overcast starting in the morning.',\n",
              "       'Mostly cloudy starting overnight continuing until evening and breezy starting overnight continuing until morning.',\n",
              "       'Partly cloudy starting overnight continuing until morning and breezy starting in the morning continuing until afternoon.',\n",
              "       'Partly cloudy until evening and breezy starting in the morning continuing until evening.',\n",
              "       'Breezy starting in the morning continuing until afternoon and partly cloudy starting in the morning.',\n",
              "       'Partly cloudy starting in the morning and breezy starting in the afternoon continuing until evening.',\n",
              "       'Mostly cloudy starting overnight continuing until morning.',\n",
              "       'Mostly cloudy throughout the day and breezy starting overnight continuing until afternoon.',\n",
              "       'Breezy starting overnight continuing until morning and foggy overnight.',\n",
              "       'Mostly cloudy throughout the day and breezy starting overnight continuing until morning.',\n",
              "       'Overcast throughout the day and breezy in the morning.',\n",
              "       'Overcast throughout the day and breezy in the evening.',\n",
              "       'Mostly cloudy starting in the morning continuing until night and breezy in the afternoon.',\n",
              "       'Mostly cloudy until night and breezy starting in the evening continuing until night.',\n",
              "       'Partly cloudy until night and breezy in the morning.',\n",
              "       'Partly cloudy until evening and breezy overnight.',\n",
              "       'Partly cloudy starting overnight continuing until night and windy starting in the morning continuing until afternoon.',\n",
              "       'Breezy starting in the morning continuing until afternoon and mostly cloudy starting in the morning.',\n",
              "       'Foggy starting overnight continuing until morning and breezy starting in the evening.',\n",
              "       'Mostly cloudy until night and breezy starting in the afternoon.',\n",
              "       'Foggy in the afternoon.',\n",
              "       'Mostly cloudy until night and breezy starting in the afternoon continuing until night.',\n",
              "       'Foggy starting overnight continuing until morning and breezy starting in the evening continuing until night.',\n",
              "       'Breezy until afternoon and mostly cloudy throughout the day.',\n",
              "       'Mostly cloudy throughout the day and breezy starting in the morning continuing until night.',\n",
              "       'Partly cloudy starting overnight continuing until evening and breezy in the morning.',\n",
              "       'Mostly cloudy starting in the morning and breezy in the afternoon.',\n",
              "       'Mostly cloudy starting overnight continuing until night and breezy starting in the morning continuing until evening.',\n",
              "       'Foggy starting overnight continuing until morning and breezy starting in the morning continuing until afternoon.',\n",
              "       'Mostly cloudy until evening and windy starting in the morning continuing until afternoon.',\n",
              "       'Foggy starting overnight continuing until afternoon and breezy in the morning.',\n",
              "       'Foggy starting in the morning continuing until afternoon and breezy starting in the evening.',\n",
              "       'Partly cloudy starting overnight and breezy starting in the morning continuing until afternoon.',\n",
              "       'Foggy starting overnight continuing until morning and breezy in the afternoon.',\n",
              "       'Mostly cloudy starting overnight and breezy starting in the afternoon continuing until evening.',\n",
              "       'Overcast throughout the day and breezy starting overnight continuing until afternoon.',\n",
              "       'Partly cloudy starting in the morning continuing until evening and breezy in the afternoon.',\n",
              "       'Partly cloudy starting in the morning continuing until night and breezy starting in the afternoon continuing until evening.',\n",
              "       'Mostly cloudy until night and breezy starting in the evening.',\n",
              "       'Breezy in the morning and mostly cloudy starting in the morning.',\n",
              "       'Mostly cloudy until night and breezy starting in the morning continuing until evening.',\n",
              "       'Partly cloudy starting overnight continuing until evening and windy starting in the morning continuing until evening.',\n",
              "       'Breezy in the morning and partly cloudy starting in the evening continuing until night.',\n",
              "       'Partly cloudy overnight and breezy starting in the morning continuing until afternoon.',\n",
              "       'Light rain in the morning.', 'Light rain until morning.',\n",
              "       'Light rain in the morning and afternoon.',\n",
              "       'Partly cloudy starting in the morning continuing until night and breezy starting in the morning continuing until afternoon.',\n",
              "       'Breezy starting in the afternoon continuing until night and mostly cloudy starting in the evening.',\n",
              "       'Mostly cloudy throughout the day and breezy starting in the evening continuing until night.',\n",
              "       'Foggy starting in the afternoon and breezy starting in the afternoon continuing until evening.',\n",
              "       'Breezy and foggy until morning.',\n",
              "       'Mostly cloudy until night and breezy starting overnight continuing until morning.',\n",
              "       'Partly cloudy starting overnight continuing until night and breezy in the morning.',\n",
              "       'Partly cloudy starting overnight continuing until night and breezy in the afternoon.',\n",
              "       'Mostly cloudy starting in the morning and breezy starting in the afternoon continuing until evening.',\n",
              "       'Partly cloudy starting overnight and breezy starting in the evening.',\n",
              "       'Breezy overnight and overcast throughout the day.',\n",
              "       'Partly cloudy until night and breezy in the afternoon.',\n",
              "       'Mostly cloudy starting overnight and breezy starting in the evening.',\n",
              "       'Breezy overnight and partly cloudy until evening.',\n",
              "       'Mostly cloudy starting in the evening.',\n",
              "       'Mostly cloudy throughout the day and breezy starting in the afternoon.',\n",
              "       'Mostly cloudy throughout the day and breezy starting in the afternoon continuing until evening.',\n",
              "       'Mostly cloudy until night and windy starting in the morning continuing until afternoon.',\n",
              "       'Breezy and foggy starting in the evening.',\n",
              "       'Breezy overnight and partly cloudy throughout the day.',\n",
              "       'Overcast throughout the day and breezy starting in the evening.',\n",
              "       'Breezy until evening and foggy in the morning.',\n",
              "       'Breezy overnight and mostly cloudy throughout the day.',\n",
              "       'Partly cloudy until evening and breezy in the afternoon.',\n",
              "       'Partly cloudy starting in the morning and breezy starting in the morning continuing until afternoon.',\n",
              "       'Mostly cloudy until evening and breezy in the evening.',\n",
              "       'Windy in the afternoon.', 'Overcast until morning.',\n",
              "       'Mostly cloudy overnight.',\n",
              "       'Foggy starting in the morning continuing until evening and breezy in the evening.',\n",
              "       'Breezy starting overnight continuing until morning.',\n",
              "       'Breezy starting in the afternoon continuing until evening and foggy starting in the evening.',\n",
              "       'Mostly cloudy until night and breezy overnight.',\n",
              "       'Mostly cloudy starting in the morning and windy in the evening.',\n",
              "       'Partly cloudy throughout the day and windy starting in the morning continuing until afternoon.',\n",
              "       'Breezy until afternoon and overcast throughout the day.',\n",
              "       'Breezy in the morning and foggy in the evening.',\n",
              "       'Breezy starting in the afternoon continuing until evening and foggy in the evening.',\n",
              "       'Breezy starting in the morning continuing until night.',\n",
              "       'Breezy in the morning and mostly cloudy starting in the evening.',\n",
              "       'Mostly cloudy until evening and breezy in the afternoon.',\n",
              "       'Mostly cloudy until night and breezy starting in the afternoon continuing until evening.',\n",
              "       'Mostly cloudy until evening and breezy starting overnight continuing until morning.',\n",
              "       'Overcast throughout the day and breezy in the afternoon.',\n",
              "       'Overcast throughout the day and breezy starting in the morning continuing until evening.',\n",
              "       'Overcast throughout the day and breezy overnight.',\n",
              "       'Overcast starting in the afternoon.',\n",
              "       'Partly cloudy throughout the day and breezy in the afternoon.',\n",
              "       'Light rain starting overnight.',\n",
              "       'Drizzle starting in the evening.', 'Drizzle until morning.',\n",
              "       'Rain throughout the day.', 'Rain until morning.',\n",
              "       'Light rain overnight.', 'Rain until afternoon.'], dtype=object)"
            ]
          },
          "metadata": {
            "tags": []
          },
          "execution_count": 12
        }
      ]
    },
    {
      "cell_type": "code",
      "metadata": {
        "colab": {
          "base_uri": "https://localhost:8080/"
        },
        "id": "XI8tQ-1vytMN",
        "outputId": "73425b76-5498-46d0-acb9-fb8240cdf101"
      },
      "source": [
        "#ISSO FOI TUDO TB \n",
        "\n",
        "weatherHistory.isna().sum()"
      ],
      "execution_count": null,
      "outputs": [
        {
          "output_type": "execute_result",
          "data": {
            "text/plain": [
              "Formatted Date                0\n",
              "Summary                       0\n",
              "Precip Type                 517\n",
              "Temperature (C)               0\n",
              "Apparent Temperature (C)      0\n",
              "Humidity                      0\n",
              "Wind Speed (km/h)             0\n",
              "Wind Bearing (degrees)        0\n",
              "Visibility (km)               0\n",
              "Loud Cover                    0\n",
              "Pressure (millibars)          0\n",
              "Daily Summary                 0\n",
              "dtype: int64"
            ]
          },
          "metadata": {
            "tags": []
          },
          "execution_count": 13
        }
      ]
    },
    {
      "cell_type": "code",
      "metadata": {
        "id": "zPmoSlgHIWxe"
      },
      "source": [
        "#Limpando os dados (data wraling)\n",
        "\n",
        "#criando uma categoria pra os NAN dessa coluna\n",
        "weatherHistory['Precip Type'].replace(np.nan , \"unknow\",inplace = True)\n"
      ],
      "execution_count": null,
      "outputs": []
    },
    {
      "cell_type": "code",
      "metadata": {
        "colab": {
          "base_uri": "https://localhost:8080/",
          "height": 419
        },
        "id": "t4J2G41jJKDU",
        "outputId": "684d8d2c-fece-4e06-cb0c-9bfe68886cfd"
      },
      "source": [
        "#tirando a coluna loud cloud\n",
        "df = weatherHistory[[\"Temperature (C)\",\"Precip Type\", \"Apparent Temperature (C)\",\"Humidity\", \"Wind Speed (km/h)\",\t\"Wind Bearing (degrees)\",\t\"Visibility (km)\",\"Pressure (millibars)\"]]\t\n",
        "df\n"
      ],
      "execution_count": null,
      "outputs": [
        {
          "output_type": "execute_result",
          "data": {
            "text/html": [
              "<div>\n",
              "<style scoped>\n",
              "    .dataframe tbody tr th:only-of-type {\n",
              "        vertical-align: middle;\n",
              "    }\n",
              "\n",
              "    .dataframe tbody tr th {\n",
              "        vertical-align: top;\n",
              "    }\n",
              "\n",
              "    .dataframe thead th {\n",
              "        text-align: right;\n",
              "    }\n",
              "</style>\n",
              "<table border=\"1\" class=\"dataframe\">\n",
              "  <thead>\n",
              "    <tr style=\"text-align: right;\">\n",
              "      <th></th>\n",
              "      <th>Temperature (C)</th>\n",
              "      <th>Precip Type</th>\n",
              "      <th>Apparent Temperature (C)</th>\n",
              "      <th>Humidity</th>\n",
              "      <th>Wind Speed (km/h)</th>\n",
              "      <th>Wind Bearing (degrees)</th>\n",
              "      <th>Visibility (km)</th>\n",
              "      <th>Pressure (millibars)</th>\n",
              "    </tr>\n",
              "  </thead>\n",
              "  <tbody>\n",
              "    <tr>\n",
              "      <th>0</th>\n",
              "      <td>9.472222</td>\n",
              "      <td>rain</td>\n",
              "      <td>7.388889</td>\n",
              "      <td>0.89</td>\n",
              "      <td>14.1197</td>\n",
              "      <td>251.0</td>\n",
              "      <td>15.8263</td>\n",
              "      <td>1015.13</td>\n",
              "    </tr>\n",
              "    <tr>\n",
              "      <th>1</th>\n",
              "      <td>9.355556</td>\n",
              "      <td>rain</td>\n",
              "      <td>7.227778</td>\n",
              "      <td>0.86</td>\n",
              "      <td>14.2646</td>\n",
              "      <td>259.0</td>\n",
              "      <td>15.8263</td>\n",
              "      <td>1015.63</td>\n",
              "    </tr>\n",
              "    <tr>\n",
              "      <th>2</th>\n",
              "      <td>9.377778</td>\n",
              "      <td>rain</td>\n",
              "      <td>9.377778</td>\n",
              "      <td>0.89</td>\n",
              "      <td>3.9284</td>\n",
              "      <td>204.0</td>\n",
              "      <td>14.9569</td>\n",
              "      <td>1015.94</td>\n",
              "    </tr>\n",
              "    <tr>\n",
              "      <th>3</th>\n",
              "      <td>8.288889</td>\n",
              "      <td>rain</td>\n",
              "      <td>5.944444</td>\n",
              "      <td>0.83</td>\n",
              "      <td>14.1036</td>\n",
              "      <td>269.0</td>\n",
              "      <td>15.8263</td>\n",
              "      <td>1016.41</td>\n",
              "    </tr>\n",
              "    <tr>\n",
              "      <th>4</th>\n",
              "      <td>8.755556</td>\n",
              "      <td>rain</td>\n",
              "      <td>6.977778</td>\n",
              "      <td>0.83</td>\n",
              "      <td>11.0446</td>\n",
              "      <td>259.0</td>\n",
              "      <td>15.8263</td>\n",
              "      <td>1016.51</td>\n",
              "    </tr>\n",
              "    <tr>\n",
              "      <th>...</th>\n",
              "      <td>...</td>\n",
              "      <td>...</td>\n",
              "      <td>...</td>\n",
              "      <td>...</td>\n",
              "      <td>...</td>\n",
              "      <td>...</td>\n",
              "      <td>...</td>\n",
              "      <td>...</td>\n",
              "    </tr>\n",
              "    <tr>\n",
              "      <th>96448</th>\n",
              "      <td>26.016667</td>\n",
              "      <td>rain</td>\n",
              "      <td>26.016667</td>\n",
              "      <td>0.43</td>\n",
              "      <td>10.9963</td>\n",
              "      <td>31.0</td>\n",
              "      <td>16.1000</td>\n",
              "      <td>1014.36</td>\n",
              "    </tr>\n",
              "    <tr>\n",
              "      <th>96449</th>\n",
              "      <td>24.583333</td>\n",
              "      <td>rain</td>\n",
              "      <td>24.583333</td>\n",
              "      <td>0.48</td>\n",
              "      <td>10.0947</td>\n",
              "      <td>20.0</td>\n",
              "      <td>15.5526</td>\n",
              "      <td>1015.16</td>\n",
              "    </tr>\n",
              "    <tr>\n",
              "      <th>96450</th>\n",
              "      <td>22.038889</td>\n",
              "      <td>rain</td>\n",
              "      <td>22.038889</td>\n",
              "      <td>0.56</td>\n",
              "      <td>8.9838</td>\n",
              "      <td>30.0</td>\n",
              "      <td>16.1000</td>\n",
              "      <td>1015.66</td>\n",
              "    </tr>\n",
              "    <tr>\n",
              "      <th>96451</th>\n",
              "      <td>21.522222</td>\n",
              "      <td>rain</td>\n",
              "      <td>21.522222</td>\n",
              "      <td>0.60</td>\n",
              "      <td>10.5294</td>\n",
              "      <td>20.0</td>\n",
              "      <td>16.1000</td>\n",
              "      <td>1015.95</td>\n",
              "    </tr>\n",
              "    <tr>\n",
              "      <th>96452</th>\n",
              "      <td>20.438889</td>\n",
              "      <td>rain</td>\n",
              "      <td>20.438889</td>\n",
              "      <td>0.61</td>\n",
              "      <td>5.8765</td>\n",
              "      <td>39.0</td>\n",
              "      <td>15.5204</td>\n",
              "      <td>1016.16</td>\n",
              "    </tr>\n",
              "  </tbody>\n",
              "</table>\n",
              "<p>96453 rows × 8 columns</p>\n",
              "</div>"
            ],
            "text/plain": [
              "       Temperature (C) Precip Type  ...  Visibility (km)  Pressure (millibars)\n",
              "0             9.472222        rain  ...          15.8263               1015.13\n",
              "1             9.355556        rain  ...          15.8263               1015.63\n",
              "2             9.377778        rain  ...          14.9569               1015.94\n",
              "3             8.288889        rain  ...          15.8263               1016.41\n",
              "4             8.755556        rain  ...          15.8263               1016.51\n",
              "...                ...         ...  ...              ...                   ...\n",
              "96448        26.016667        rain  ...          16.1000               1014.36\n",
              "96449        24.583333        rain  ...          15.5526               1015.16\n",
              "96450        22.038889        rain  ...          16.1000               1015.66\n",
              "96451        21.522222        rain  ...          16.1000               1015.95\n",
              "96452        20.438889        rain  ...          15.5204               1016.16\n",
              "\n",
              "[96453 rows x 8 columns]"
            ]
          },
          "metadata": {
            "tags": []
          },
          "execution_count": 15
        }
      ]
    },
    {
      "cell_type": "markdown",
      "metadata": {
        "id": "GKkZb__bOlup"
      },
      "source": [
        "Normalizar os dados"
      ]
    },
    {
      "cell_type": "code",
      "metadata": {
        "id": "KCtV4lndzFS-"
      },
      "source": [
        "#Não se normaliza a variável target, pois queremos atingir aqueles valores exatos, normaliza somente as variaveis preditivas\n",
        "#Como só vamos utilizar temperatura e humidade, humidade já está normalizada, não realizaremos agora esse metodo"
      ],
      "execution_count": null,
      "outputs": []
    },
    {
      "cell_type": "code",
      "metadata": {
        "colab": {
          "base_uri": "https://localhost:8080/",
          "height": 204
        },
        "id": "E3zNBQvqN9da",
        "outputId": "842ac473-9b14-495c-9778-ef01e549f065"
      },
      "source": [
        "#Criar um valor booleano para as categorias de principe type\n",
        "\n",
        "dummy = pd.get_dummies(df['Precip Type'])\n",
        "dummy.head()"
      ],
      "execution_count": null,
      "outputs": [
        {
          "output_type": "execute_result",
          "data": {
            "text/html": [
              "<div>\n",
              "<style scoped>\n",
              "    .dataframe tbody tr th:only-of-type {\n",
              "        vertical-align: middle;\n",
              "    }\n",
              "\n",
              "    .dataframe tbody tr th {\n",
              "        vertical-align: top;\n",
              "    }\n",
              "\n",
              "    .dataframe thead th {\n",
              "        text-align: right;\n",
              "    }\n",
              "</style>\n",
              "<table border=\"1\" class=\"dataframe\">\n",
              "  <thead>\n",
              "    <tr style=\"text-align: right;\">\n",
              "      <th></th>\n",
              "      <th>rain</th>\n",
              "      <th>snow</th>\n",
              "      <th>unknow</th>\n",
              "    </tr>\n",
              "  </thead>\n",
              "  <tbody>\n",
              "    <tr>\n",
              "      <th>0</th>\n",
              "      <td>1</td>\n",
              "      <td>0</td>\n",
              "      <td>0</td>\n",
              "    </tr>\n",
              "    <tr>\n",
              "      <th>1</th>\n",
              "      <td>1</td>\n",
              "      <td>0</td>\n",
              "      <td>0</td>\n",
              "    </tr>\n",
              "    <tr>\n",
              "      <th>2</th>\n",
              "      <td>1</td>\n",
              "      <td>0</td>\n",
              "      <td>0</td>\n",
              "    </tr>\n",
              "    <tr>\n",
              "      <th>3</th>\n",
              "      <td>1</td>\n",
              "      <td>0</td>\n",
              "      <td>0</td>\n",
              "    </tr>\n",
              "    <tr>\n",
              "      <th>4</th>\n",
              "      <td>1</td>\n",
              "      <td>0</td>\n",
              "      <td>0</td>\n",
              "    </tr>\n",
              "  </tbody>\n",
              "</table>\n",
              "</div>"
            ],
            "text/plain": [
              "   rain  snow  unknow\n",
              "0     1     0       0\n",
              "1     1     0       0\n",
              "2     1     0       0\n",
              "3     1     0       0\n",
              "4     1     0       0"
            ]
          },
          "metadata": {
            "tags": []
          },
          "execution_count": 17
        }
      ]
    },
    {
      "cell_type": "code",
      "metadata": {
        "id": "SESACLpGQSRv"
      },
      "source": [
        "#mudar o nome das colunas e concatenar no nadaframe as novas colunas booleanas\n",
        "\n",
        "dummy.rename(columns = {'rain':'Precip_Type_Rain', 'snow':'Precip_Type_Snow', 'unknow':'Precip_Type_Unknow'}, inplace = True)"
      ],
      "execution_count": null,
      "outputs": []
    },
    {
      "cell_type": "code",
      "metadata": {
        "colab": {
          "base_uri": "https://localhost:8080/",
          "height": 238
        },
        "id": "3x8KGI4vQ7PA",
        "outputId": "a1700534-8569-4219-d426-0008771d94d5"
      },
      "source": [
        "df = pd.concat([df, dummy], axis = 1)\n",
        "df.head()"
      ],
      "execution_count": null,
      "outputs": [
        {
          "output_type": "execute_result",
          "data": {
            "text/html": [
              "<div>\n",
              "<style scoped>\n",
              "    .dataframe tbody tr th:only-of-type {\n",
              "        vertical-align: middle;\n",
              "    }\n",
              "\n",
              "    .dataframe tbody tr th {\n",
              "        vertical-align: top;\n",
              "    }\n",
              "\n",
              "    .dataframe thead th {\n",
              "        text-align: right;\n",
              "    }\n",
              "</style>\n",
              "<table border=\"1\" class=\"dataframe\">\n",
              "  <thead>\n",
              "    <tr style=\"text-align: right;\">\n",
              "      <th></th>\n",
              "      <th>Temperature (C)</th>\n",
              "      <th>Precip Type</th>\n",
              "      <th>Apparent Temperature (C)</th>\n",
              "      <th>Humidity</th>\n",
              "      <th>Wind Speed (km/h)</th>\n",
              "      <th>Wind Bearing (degrees)</th>\n",
              "      <th>Visibility (km)</th>\n",
              "      <th>Pressure (millibars)</th>\n",
              "      <th>Precip_Type_Rain</th>\n",
              "      <th>Precip_Type_Snow</th>\n",
              "      <th>Precip_Type_Unknow</th>\n",
              "    </tr>\n",
              "  </thead>\n",
              "  <tbody>\n",
              "    <tr>\n",
              "      <th>0</th>\n",
              "      <td>9.472222</td>\n",
              "      <td>rain</td>\n",
              "      <td>7.388889</td>\n",
              "      <td>0.89</td>\n",
              "      <td>14.1197</td>\n",
              "      <td>251.0</td>\n",
              "      <td>15.8263</td>\n",
              "      <td>1015.13</td>\n",
              "      <td>1</td>\n",
              "      <td>0</td>\n",
              "      <td>0</td>\n",
              "    </tr>\n",
              "    <tr>\n",
              "      <th>1</th>\n",
              "      <td>9.355556</td>\n",
              "      <td>rain</td>\n",
              "      <td>7.227778</td>\n",
              "      <td>0.86</td>\n",
              "      <td>14.2646</td>\n",
              "      <td>259.0</td>\n",
              "      <td>15.8263</td>\n",
              "      <td>1015.63</td>\n",
              "      <td>1</td>\n",
              "      <td>0</td>\n",
              "      <td>0</td>\n",
              "    </tr>\n",
              "    <tr>\n",
              "      <th>2</th>\n",
              "      <td>9.377778</td>\n",
              "      <td>rain</td>\n",
              "      <td>9.377778</td>\n",
              "      <td>0.89</td>\n",
              "      <td>3.9284</td>\n",
              "      <td>204.0</td>\n",
              "      <td>14.9569</td>\n",
              "      <td>1015.94</td>\n",
              "      <td>1</td>\n",
              "      <td>0</td>\n",
              "      <td>0</td>\n",
              "    </tr>\n",
              "    <tr>\n",
              "      <th>3</th>\n",
              "      <td>8.288889</td>\n",
              "      <td>rain</td>\n",
              "      <td>5.944444</td>\n",
              "      <td>0.83</td>\n",
              "      <td>14.1036</td>\n",
              "      <td>269.0</td>\n",
              "      <td>15.8263</td>\n",
              "      <td>1016.41</td>\n",
              "      <td>1</td>\n",
              "      <td>0</td>\n",
              "      <td>0</td>\n",
              "    </tr>\n",
              "    <tr>\n",
              "      <th>4</th>\n",
              "      <td>8.755556</td>\n",
              "      <td>rain</td>\n",
              "      <td>6.977778</td>\n",
              "      <td>0.83</td>\n",
              "      <td>11.0446</td>\n",
              "      <td>259.0</td>\n",
              "      <td>15.8263</td>\n",
              "      <td>1016.51</td>\n",
              "      <td>1</td>\n",
              "      <td>0</td>\n",
              "      <td>0</td>\n",
              "    </tr>\n",
              "  </tbody>\n",
              "</table>\n",
              "</div>"
            ],
            "text/plain": [
              "   Temperature (C) Precip Type  ...  Precip_Type_Snow  Precip_Type_Unknow\n",
              "0         9.472222        rain  ...                 0                   0\n",
              "1         9.355556        rain  ...                 0                   0\n",
              "2         9.377778        rain  ...                 0                   0\n",
              "3         8.288889        rain  ...                 0                   0\n",
              "4         8.755556        rain  ...                 0                   0\n",
              "\n",
              "[5 rows x 11 columns]"
            ]
          },
          "metadata": {
            "tags": []
          },
          "execution_count": 19
        }
      ]
    },
    {
      "cell_type": "code",
      "metadata": {
        "id": "dbG7Mao2Rt3V"
      },
      "source": [
        "#normalizar \n",
        "df['Wind Speed (km/h)'] = df['Wind Speed (km/h)']/df['Wind Speed (km/h)'].max()\n",
        "df['Wind Bearing (degrees)'] = df['Wind Bearing (degrees)']/df['Wind Bearing (degrees)'].max()\n",
        "df['Visibility (km)'] = df['Visibility (km)']/df['Visibility (km)'].max()\n",
        "df['Pressure (millibars)'] = df['Pressure (millibars)']/df['Pressure (millibars)'].max()"
      ],
      "execution_count": null,
      "outputs": []
    },
    {
      "cell_type": "markdown",
      "metadata": {
        "id": "np8TogOrPaTp"
      },
      "source": [
        "Análise dos dados\n"
      ]
    },
    {
      "cell_type": "code",
      "metadata": {
        "colab": {
          "base_uri": "https://localhost:8080/",
          "height": 427
        },
        "id": "7OwVhMzKEkDP",
        "outputId": "0fca1503-a2b8-47f7-fe7a-0ce8b5fdfbd7"
      },
      "source": [
        "# Testando a correlação entre as variáveis\n",
        "df.corr(method= 'pearson')"
      ],
      "execution_count": null,
      "outputs": [
        {
          "output_type": "execute_result",
          "data": {
            "text/html": [
              "<div>\n",
              "<style scoped>\n",
              "    .dataframe tbody tr th:only-of-type {\n",
              "        vertical-align: middle;\n",
              "    }\n",
              "\n",
              "    .dataframe tbody tr th {\n",
              "        vertical-align: top;\n",
              "    }\n",
              "\n",
              "    .dataframe thead th {\n",
              "        text-align: right;\n",
              "    }\n",
              "</style>\n",
              "<table border=\"1\" class=\"dataframe\">\n",
              "  <thead>\n",
              "    <tr style=\"text-align: right;\">\n",
              "      <th></th>\n",
              "      <th>Temperature (C)</th>\n",
              "      <th>Apparent Temperature (C)</th>\n",
              "      <th>Humidity</th>\n",
              "      <th>Wind Speed (km/h)</th>\n",
              "      <th>Wind Bearing (degrees)</th>\n",
              "      <th>Visibility (km)</th>\n",
              "      <th>Pressure (millibars)</th>\n",
              "      <th>Precip_Type_Rain</th>\n",
              "      <th>Precip_Type_Snow</th>\n",
              "      <th>Precip_Type_Unknow</th>\n",
              "    </tr>\n",
              "  </thead>\n",
              "  <tbody>\n",
              "    <tr>\n",
              "      <th>Temperature (C)</th>\n",
              "      <td>1.000000</td>\n",
              "      <td>0.992629</td>\n",
              "      <td>-0.632255</td>\n",
              "      <td>0.008957</td>\n",
              "      <td>0.029988</td>\n",
              "      <td>0.392847</td>\n",
              "      <td>-0.005447</td>\n",
              "      <td>0.553873</td>\n",
              "      <td>-0.562620</td>\n",
              "      <td>-0.011833</td>\n",
              "    </tr>\n",
              "    <tr>\n",
              "      <th>Apparent Temperature (C)</th>\n",
              "      <td>0.992629</td>\n",
              "      <td>1.000000</td>\n",
              "      <td>-0.602571</td>\n",
              "      <td>-0.056650</td>\n",
              "      <td>0.029031</td>\n",
              "      <td>0.381718</td>\n",
              "      <td>-0.000219</td>\n",
              "      <td>0.555889</td>\n",
              "      <td>-0.565207</td>\n",
              "      <td>-0.009554</td>\n",
              "    </tr>\n",
              "    <tr>\n",
              "      <th>Humidity</th>\n",
              "      <td>-0.632255</td>\n",
              "      <td>-0.602571</td>\n",
              "      <td>1.000000</td>\n",
              "      <td>-0.224951</td>\n",
              "      <td>0.000735</td>\n",
              "      <td>-0.369173</td>\n",
              "      <td>0.005454</td>\n",
              "      <td>-0.228314</td>\n",
              "      <td>0.232113</td>\n",
              "      <td>0.004044</td>\n",
              "    </tr>\n",
              "    <tr>\n",
              "      <th>Wind Speed (km/h)</th>\n",
              "      <td>0.008957</td>\n",
              "      <td>-0.056650</td>\n",
              "      <td>-0.224951</td>\n",
              "      <td>1.000000</td>\n",
              "      <td>0.103822</td>\n",
              "      <td>0.100749</td>\n",
              "      <td>-0.049263</td>\n",
              "      <td>0.063988</td>\n",
              "      <td>-0.067928</td>\n",
              "      <td>0.011240</td>\n",
              "    </tr>\n",
              "    <tr>\n",
              "      <th>Wind Bearing (degrees)</th>\n",
              "      <td>0.029988</td>\n",
              "      <td>0.029031</td>\n",
              "      <td>0.000735</td>\n",
              "      <td>0.103822</td>\n",
              "      <td>1.000000</td>\n",
              "      <td>0.047594</td>\n",
              "      <td>-0.011651</td>\n",
              "      <td>0.041406</td>\n",
              "      <td>-0.041984</td>\n",
              "      <td>-0.001210</td>\n",
              "    </tr>\n",
              "    <tr>\n",
              "      <th>Visibility (km)</th>\n",
              "      <td>0.392847</td>\n",
              "      <td>0.381718</td>\n",
              "      <td>-0.369173</td>\n",
              "      <td>0.100749</td>\n",
              "      <td>0.047594</td>\n",
              "      <td>1.000000</td>\n",
              "      <td>0.059818</td>\n",
              "      <td>0.317667</td>\n",
              "      <td>-0.312875</td>\n",
              "      <td>-0.048994</td>\n",
              "    </tr>\n",
              "    <tr>\n",
              "      <th>Pressure (millibars)</th>\n",
              "      <td>-0.005447</td>\n",
              "      <td>-0.000219</td>\n",
              "      <td>0.005454</td>\n",
              "      <td>-0.049263</td>\n",
              "      <td>-0.011651</td>\n",
              "      <td>0.059818</td>\n",
              "      <td>1.000000</td>\n",
              "      <td>-0.011103</td>\n",
              "      <td>0.009008</td>\n",
              "      <td>0.010006</td>\n",
              "    </tr>\n",
              "    <tr>\n",
              "      <th>Precip_Type_Rain</th>\n",
              "      <td>0.553873</td>\n",
              "      <td>0.555889</td>\n",
              "      <td>-0.228314</td>\n",
              "      <td>0.063988</td>\n",
              "      <td>0.041406</td>\n",
              "      <td>0.317667</td>\n",
              "      <td>-0.011103</td>\n",
              "      <td>1.000000</td>\n",
              "      <td>-0.973759</td>\n",
              "      <td>-0.202239</td>\n",
              "    </tr>\n",
              "    <tr>\n",
              "      <th>Precip_Type_Snow</th>\n",
              "      <td>-0.562620</td>\n",
              "      <td>-0.565207</td>\n",
              "      <td>0.232113</td>\n",
              "      <td>-0.067928</td>\n",
              "      <td>-0.041984</td>\n",
              "      <td>-0.312875</td>\n",
              "      <td>0.009008</td>\n",
              "      <td>-0.973759</td>\n",
              "      <td>1.000000</td>\n",
              "      <td>-0.025947</td>\n",
              "    </tr>\n",
              "    <tr>\n",
              "      <th>Precip_Type_Unknow</th>\n",
              "      <td>-0.011833</td>\n",
              "      <td>-0.009554</td>\n",
              "      <td>0.004044</td>\n",
              "      <td>0.011240</td>\n",
              "      <td>-0.001210</td>\n",
              "      <td>-0.048994</td>\n",
              "      <td>0.010006</td>\n",
              "      <td>-0.202239</td>\n",
              "      <td>-0.025947</td>\n",
              "      <td>1.000000</td>\n",
              "    </tr>\n",
              "  </tbody>\n",
              "</table>\n",
              "</div>"
            ],
            "text/plain": [
              "                          Temperature (C)  ...  Precip_Type_Unknow\n",
              "Temperature (C)                  1.000000  ...           -0.011833\n",
              "Apparent Temperature (C)         0.992629  ...           -0.009554\n",
              "Humidity                        -0.632255  ...            0.004044\n",
              "Wind Speed (km/h)                0.008957  ...            0.011240\n",
              "Wind Bearing (degrees)           0.029988  ...           -0.001210\n",
              "Visibility (km)                  0.392847  ...           -0.048994\n",
              "Pressure (millibars)            -0.005447  ...            0.010006\n",
              "Precip_Type_Rain                 0.553873  ...           -0.202239\n",
              "Precip_Type_Snow                -0.562620  ...           -0.025947\n",
              "Precip_Type_Unknow              -0.011833  ...            1.000000\n",
              "\n",
              "[10 rows x 10 columns]"
            ]
          },
          "metadata": {
            "tags": []
          },
          "execution_count": 21
        }
      ]
    },
    {
      "cell_type": "code",
      "metadata": {
        "colab": {
          "base_uri": "https://localhost:8080/",
          "height": 111
        },
        "id": "kT-6x1Tjapsv",
        "outputId": "94430a24-792f-4958-ed8b-d66f00857d17"
      },
      "source": [
        "df[['Humidity', 'Temperature (C)']].corr()"
      ],
      "execution_count": null,
      "outputs": [
        {
          "output_type": "execute_result",
          "data": {
            "text/html": [
              "<div>\n",
              "<style scoped>\n",
              "    .dataframe tbody tr th:only-of-type {\n",
              "        vertical-align: middle;\n",
              "    }\n",
              "\n",
              "    .dataframe tbody tr th {\n",
              "        vertical-align: top;\n",
              "    }\n",
              "\n",
              "    .dataframe thead th {\n",
              "        text-align: right;\n",
              "    }\n",
              "</style>\n",
              "<table border=\"1\" class=\"dataframe\">\n",
              "  <thead>\n",
              "    <tr style=\"text-align: right;\">\n",
              "      <th></th>\n",
              "      <th>Humidity</th>\n",
              "      <th>Temperature (C)</th>\n",
              "    </tr>\n",
              "  </thead>\n",
              "  <tbody>\n",
              "    <tr>\n",
              "      <th>Humidity</th>\n",
              "      <td>1.000000</td>\n",
              "      <td>-0.632255</td>\n",
              "    </tr>\n",
              "    <tr>\n",
              "      <th>Temperature (C)</th>\n",
              "      <td>-0.632255</td>\n",
              "      <td>1.000000</td>\n",
              "    </tr>\n",
              "  </tbody>\n",
              "</table>\n",
              "</div>"
            ],
            "text/plain": [
              "                 Humidity  Temperature (C)\n",
              "Humidity         1.000000        -0.632255\n",
              "Temperature (C) -0.632255         1.000000"
            ]
          },
          "metadata": {
            "tags": []
          },
          "execution_count": 22
        }
      ]
    },
    {
      "cell_type": "code",
      "metadata": {
        "colab": {
          "base_uri": "https://localhost:8080/",
          "height": 296
        },
        "id": "-Ns3nRPxG0SF",
        "outputId": "03619945-ab52-425e-dc1f-dd2e9b0fce25"
      },
      "source": [
        "sns.regplot(x=\"Humidity\", y=\"Temperature (C)\", data=df)\n",
        "plt.ylim(0,)"
      ],
      "execution_count": null,
      "outputs": [
        {
          "output_type": "execute_result",
          "data": {
            "text/plain": [
              "(0.0, 42.99194444444444)"
            ]
          },
          "metadata": {
            "tags": []
          },
          "execution_count": 23
        },
        {
          "output_type": "display_data",
          "data": {
            "image/png": "[encoded data removed]",
            "text/plain": [
              "<Figure size 432x288 with 1 Axes>"
            ]
          },
          "metadata": {
            "tags": [],
            "needs_background": "light"
          }
        }
      ]
    },
    {
      "cell_type": "code",
      "metadata": {
        "id": "nI9lrxzKK0Su",
        "colab": {
          "base_uri": "https://localhost:8080/",
          "height": 296
        },
        "outputId": "549b6d19-19a9-433e-d3d9-e14dde53e2c0"
      },
      "source": [
        "#Como a quantidade de dados é muito grande, define-se uma amostra para compreender melhor a distribuição dos dados\n",
        "\n",
        "df_smpl = df.sample(1000)\n",
        "sns.regplot(x=\"Humidity\", y=\"Temperature (C)\", data = df_smpl)\n",
        "plt.ylim(0,)"
      ],
      "execution_count": null,
      "outputs": [
        {
          "output_type": "execute_result",
          "data": {
            "text/plain": [
              "(0.0, 41.25611111111111)"
            ]
          },
          "metadata": {
            "tags": []
          },
          "execution_count": 24
        },
        {
          "output_type": "display_data",
          "data": {
            "image/png": "[encoded data removed]",
            "text/plain": [
              "<Figure size 432x288 with 1 Axes>"
            ]
          },
          "metadata": {
            "tags": [],
            "needs_background": "light"
          }
        }
      ]
    },
    {
      "cell_type": "markdown",
      "metadata": {
        "id": "uL86aGxNhtVp"
      },
      "source": [
        "Fazendo a regreção linear"
      ]
    },
    {
      "cell_type": "code",
      "metadata": {
        "id": "DpdX6EAKhHIp"
      },
      "source": [
        "from sklearn.model_selection import train_test_split\n",
        "from sklearn.linear_model import LinearRegression"
      ],
      "execution_count": null,
      "outputs": []
    },
    {
      "cell_type": "code",
      "metadata": {
        "colab": {
          "base_uri": "https://localhost:8080/"
        },
        "id": "r6f_IdWyhVUr",
        "outputId": "2c7eb677-9a42-4264-afad-7834c0f9a97b"
      },
      "source": [
        "#criando o objeto de regressão linear\n",
        "\n",
        "l_model = LinearRegression()\n",
        "l_model"
      ],
      "execution_count": null,
      "outputs": [
        {
          "output_type": "execute_result",
          "data": {
            "text/plain": [
              "LinearRegression(copy_X=True, fit_intercept=True, n_jobs=None, normalize=False)"
            ]
          },
          "metadata": {
            "tags": []
          },
          "execution_count": 26
        }
      ]
    },
    {
      "cell_type": "code",
      "metadata": {
        "id": "kkFhn4ePhVj3"
      },
      "source": [
        "#Separando as colunas em x e y\n",
        "X = df[[\"Humidity\"]]\n",
        "Y = df[\"Temperature (C)\"]"
      ],
      "execution_count": null,
      "outputs": []
    },
    {
      "cell_type": "code",
      "metadata": {
        "id": "I8O8kq3nhVuG"
      },
      "source": [
        "#Criando  o train test\n",
        "\n",
        "X_train, X_test, Y_train, Y_test = train_test_split(X, Y, test_size = 0.3)"
      ],
      "execution_count": null,
      "outputs": []
    },
    {
      "cell_type": "code",
      "metadata": {
        "id": "GMnOK3EThrvo",
        "colab": {
          "base_uri": "https://localhost:8080/"
        },
        "outputId": "668366ea-a5aa-4fa3-fe94-f61077bde5b9"
      },
      "source": [
        "#ajustando/treinando o modelo\n",
        "\n",
        "l_model.fit(X_train, Y_train)\n"
      ],
      "execution_count": null,
      "outputs": [
        {
          "output_type": "execute_result",
          "data": {
            "text/plain": [
              "LinearRegression(copy_X=True, fit_intercept=True, n_jobs=None, normalize=False)"
            ]
          },
          "metadata": {
            "tags": []
          },
          "execution_count": 39
        }
      ]
    },
    {
      "cell_type": "code",
      "metadata": {
        "id": "sIHLeT2uhr1L"
      },
      "source": [
        "#Fazendo a predição\n",
        "\n",
        "Y_pred = l_model.predict(X_test)"
      ],
      "execution_count": null,
      "outputs": []
    },
    {
      "cell_type": "code",
      "metadata": {
        "id": "8tLtUslnvDzY"
      },
      "source": [
        "#Testando a confiabilidade do modelo\n",
        "from sklearn.metrics import r2_score\n",
        "from sklearn.metrics import mean_absolute_error\n",
        "from sklearn.metrics import mean_squared_error"
      ],
      "execution_count": null,
      "outputs": []
    },
    {
      "cell_type": "code",
      "metadata": {
        "colab": {
          "base_uri": "https://localhost:8080/"
        },
        "id": "dWXM3wmrvQZS",
        "outputId": "45f32cb9-2c54-4f02-cd85-874209865e6d"
      },
      "source": [
        "print(\"R2: \", r2_score(Y_test, Y_pred)) #Porcentagem de acerto\n",
        "print(\"MAE: \", mean_absolute_error(Y_test, Y_pred)) #Media modular das variâncias\n",
        "print(\"MSE: \", mean_squared_error(Y_test, Y_pred)) #Média das variâncias ao quadrado (Da maior importância aos outliers)\n",
        "print(\"RMSE: \", np.sqrt(mean_squared_error(Y_test, Y_pred)) ) #Raiz quadrada da média das variâncias ao quadrado (Transforma p/ a mesma escala da MAE)"
      ],
      "execution_count": null,
      "outputs": [
        {
          "output_type": "stream",
          "text": [
            "R2:  0.3991287441887267\n",
            "MAE:  6.049223370380227\n",
            "MSE:  55.17543604305547\n",
            "RMSE:  7.428016965722108\n"
          ],
          "name": "stdout"
        }
      ]
    },
    {
      "cell_type": "markdown",
      "metadata": {
        "id": "i2Kt5qDLw7_Y"
      },
      "source": [
        "Fazendo a regressão linear multipla"
      ]
    },
    {
      "cell_type": "code",
      "metadata": {
        "id": "ILXCIGEvw5qF"
      },
      "source": [
        "from sklearn.model_selection import train_test_split\n",
        "from sklearn.linear_model import LinearRegression"
      ],
      "execution_count": null,
      "outputs": []
    },
    {
      "cell_type": "code",
      "metadata": {
        "id": "hESERwi6w54i"
      },
      "source": [
        "#Criando o objeto de regressão linear\n",
        "\n",
        "LModel = LinearRegression()"
      ],
      "execution_count": null,
      "outputs": []
    },
    {
      "cell_type": "code",
      "metadata": {
        "id": "x2yH9GBtw5-D"
      },
      "source": [
        "#Separando as variáveis em X e Y\n",
        "\n",
        "X = df[['Humidity', 'Pressure (millibars)', 'Precip_Type_Rain', 'Precip_Type_Snow']]\n",
        "Y = df['Temperature (C)']"
      ],
      "execution_count": null,
      "outputs": []
    },
    {
      "cell_type": "code",
      "metadata": {
        "id": "tfIpicrYw6CT"
      },
      "source": [
        "#Criando train e test\n",
        "\n",
        "X_train, X_test, Y_train, Y_test = train_test_split(X, Y, test_size = 0.3)"
      ],
      "execution_count": null,
      "outputs": []
    },
    {
      "cell_type": "code",
      "metadata": {
        "colab": {
          "base_uri": "https://localhost:8080/"
        },
        "id": "M9qw8Hk6w6Jm",
        "outputId": "526e349e-85cd-44a8-976c-e9d26b5f3314"
      },
      "source": [
        "#Treinando o modelo\n",
        "\n",
        "LModel.fit(X_train, Y_train)"
      ],
      "execution_count": null,
      "outputs": [
        {
          "output_type": "execute_result",
          "data": {
            "text/plain": [
              "LinearRegression(copy_X=True, fit_intercept=True, n_jobs=None, normalize=False)"
            ]
          },
          "metadata": {
            "tags": []
          },
          "execution_count": 52
        }
      ]
    },
    {
      "cell_type": "code",
      "metadata": {
        "id": "B4CCOuCCyPma"
      },
      "source": [
        "#Fazendo a previsão\n",
        "\n",
        "Y_hat = LModel.predict(X_test)"
      ],
      "execution_count": null,
      "outputs": []
    },
    {
      "cell_type": "code",
      "metadata": {
        "id": "nFi7NvrByP7W"
      },
      "source": [
        "#Aferindo a confiabilidade do modelo \n",
        "\n",
        "from sklearn.metrics import r2_score\n",
        "from sklearn.metrics import mean_absolute_error\n",
        "from sklearn.metrics import mean_squared_error"
      ],
      "execution_count": null,
      "outputs": []
    },
    {
      "cell_type": "code",
      "metadata": {
        "colab": {
          "base_uri": "https://localhost:8080/"
        },
        "id": "RPHlsIDlyj9H",
        "outputId": "b002d2f1-3db8-40e8-b6f5-4db462152a93"
      },
      "source": [
        "print('R2:', r2_score(Y_hat, Y_test))\n",
        "print('MAE:', mean_absolute_error(Y_hat, Y_test))\n",
        "print('MSE:', mean_squared_error(Y_hat, Y_test))\n",
        "print('RMSE:', np.sqrt(mean_squared_error(Y_hat, Y_test)))"
      ],
      "execution_count": null,
      "outputs": [
        {
          "output_type": "stream",
          "text": [
            "R2: 0.27609363216136285\n",
            "MAE: 5.090319663250882\n",
            "MSE: 37.94815357216853\n",
            "RMSE: 6.160207266981244\n"
          ],
          "name": "stdout"
        }
      ]
    },
    {
      "cell_type": "markdown",
      "metadata": {
        "id": "O4KqtkjrhxaW"
      },
      "source": [
        "Fazendo a regressão polinomial"
      ]
    },
    {
      "cell_type": "code",
      "metadata": {
        "id": "jJTRc8HqbMo-"
      },
      "source": [
        "#A regressão linear parece não resolver o nosso problema, pois mesmo com uma variância constante, a distribuição ainda é muito dispersa\n",
        "#Vamos tentar um modelo de regressão polinomial\n",
        "\n",
        "from sklearn.preprocessing import PolynomialFeatures\n",
        "from sklearn.model_selection import train_test_split\n",
        "from sklearn.linear_model import LinearRegression"
      ],
      "execution_count": null,
      "outputs": []
    },
    {
      "cell_type": "code",
      "metadata": {
        "colab": {
          "base_uri": "https://localhost:8080/"
        },
        "id": "Dh5qJ-z1jkAz",
        "outputId": "df89c428-4b42-4e0b-9ecb-8d51d0332030"
      },
      "source": [
        "X = df[[\"Humidity\"]]\n",
        "Y = df[\"Temperature (C)\"]\n",
        "X.shape"
      ],
      "execution_count": null,
      "outputs": [
        {
          "output_type": "execute_result",
          "data": {
            "text/plain": [
              "(96453, 1)"
            ]
          },
          "metadata": {
            "tags": []
          },
          "execution_count": 30
        }
      ]
    },
    {
      "cell_type": "code",
      "metadata": {
        "id": "yKX1qSkJjAY_"
      },
      "source": [
        "#Criando treino x teste\n",
        "X_train, X_test, Y_train, Y_test = train_test_split(X, Y, test_size=0.30)"
      ],
      "execution_count": null,
      "outputs": []
    },
    {
      "cell_type": "code",
      "metadata": {
        "id": "DJIRhdTKfXoP"
      },
      "source": [
        "#criando o modelo para transformar o X num polinomio \n",
        "poly_model = PolynomialFeatures(degree=3)\n",
        "X_PTrain = poly_model.fit_transform(X_train)\n",
        "X_PTest = poly_model.fit_transform(X_test)"
      ],
      "execution_count": null,
      "outputs": []
    },
    {
      "cell_type": "code",
      "metadata": {
        "id": "FeUh7GIlCB7G"
      },
      "source": [
        "#Criando a regressão linear por que a regressão polinomial é uma regressão linear de polinômios e fitando no modelo\n",
        "ln_model = LinearRegression()"
      ],
      "execution_count": null,
      "outputs": []
    },
    {
      "cell_type": "code",
      "metadata": {
        "colab": {
          "base_uri": "https://localhost:8080/"
        },
        "id": "iDbKudwggnuh",
        "outputId": "f7cf1847-f4f1-4296-a39e-3d2bff3dc687"
      },
      "source": [
        "#Treinando o modelo com as variaveis de treino\n",
        "ln_model.fit(X_PTrain, Y_train)"
      ],
      "execution_count": null,
      "outputs": [
        {
          "output_type": "execute_result",
          "data": {
            "text/plain": [
              "LinearRegression(copy_X=True, fit_intercept=True, n_jobs=None, normalize=False)"
            ]
          },
          "metadata": {
            "tags": []
          },
          "execution_count": 59
        }
      ]
    },
    {
      "cell_type": "code",
      "metadata": {
        "colab": {
          "base_uri": "https://localhost:8080/"
        },
        "id": "R6DWAPz_fY1o",
        "outputId": "eb2b5714-bb8e-42c9-bd45-a9e8183a2cc4"
      },
      "source": [
        "#Tirar o score saber se O MODELO é preciso\n",
        "\n",
        "ln_model.score(X_PTrain, Y_train)"
      ],
      "execution_count": null,
      "outputs": [
        {
          "output_type": "execute_result",
          "data": {
            "text/plain": [
              "0.6573749640445992"
            ]
          },
          "metadata": {
            "tags": []
          },
          "execution_count": 60
        }
      ]
    },
    {
      "cell_type": "code",
      "metadata": {
        "colab": {
          "base_uri": "https://localhost:8080/"
        },
        "id": "Bxo2_3cDIfeK",
        "outputId": "02e65f1f-0c71-4860-a19e-2e71569f5d47"
      },
      "source": [
        "### FAZENDO A PREDIÇÃO ### \n",
        "\n",
        "Yhat = ln_model.predict(X_PTest)\n",
        "Yhat[0:5]"
      ],
      "execution_count": null,
      "outputs": [
        {
          "output_type": "execute_result",
          "data": {
            "text/plain": [
              "array([24.45104606, 16.66220217, -5.08043341,  9.92126511, 14.45480097])"
            ]
          },
          "metadata": {
            "tags": []
          },
          "execution_count": 61
        }
      ]
    },
    {
      "cell_type": "code",
      "metadata": {
        "id": "t0zNnEfmgoBl"
      },
      "source": [
        "#### AVALIANDO O MODELO ###\n",
        "\n",
        "#Criar o R^2, o mean square error e o mean absolut error para saber se A PREDIÇÃO é precisa\n",
        "\n",
        "from sklearn.metrics import r2_score\n",
        "from sklearn.metrics import mean_absolute_error\n",
        "from sklearn.metrics import mean_squared_error\n",
        "    "
      ],
      "execution_count": null,
      "outputs": []
    },
    {
      "cell_type": "code",
      "metadata": {
        "colab": {
          "base_uri": "https://localhost:8080/"
        },
        "id": "imCu-CHv0YUY",
        "outputId": "fb7846ea-8e18-4516-f965-b4316316233e"
      },
      "source": [
        "print('R2:', r2_score(Y_hat, Y_test))\n",
        "print('MAE:', mean_absolute_error(Y_hat, Y_test))\n",
        "print('MSE:', mean_squared_error(Y_hat, Y_test))\n",
        "print('RMSE:', np.sqrt(mean_squared_error(Y_hat, Y_test)))"
      ],
      "execution_count": null,
      "outputs": [
        {
          "output_type": "stream",
          "text": [
            "R2: 0.27609363216136285\n",
            "MAE: 5.090319663250882\n",
            "MSE: 37.94815357216853\n",
            "RMSE: 6.160207266981244\n"
          ],
          "name": "stdout"
        }
      ]
    },
    {
      "cell_type": "code",
      "metadata": {
        "id": "_NKVwSurG8Er"
      },
      "source": [
        ""
      ],
      "execution_count": null,
      "outputs": []
    },
    {
      "cell_type": "code",
      "metadata": {
        "id": "h65AxBEHIrKO"
      },
      "source": [
        ""
      ],
      "execution_count": null,
      "outputs": []
    }
  ]
}