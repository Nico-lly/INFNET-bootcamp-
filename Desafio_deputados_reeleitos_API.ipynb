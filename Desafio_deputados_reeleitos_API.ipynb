{
  "nbformat": 4,
  "nbformat_minor": 0,
  "metadata": {
    "colab": {
      "name": "Desafio: deputados reeleitos API.ipynb",
      "provenance": [],
      "authorship_tag": "ABX9TyMgcYWkcdmDVjKjqqhXSBkn",
      "include_colab_link": true
    },
    "kernelspec": {
      "name": "python3",
      "display_name": "Python 3"
    }
  },
  "cells": [
    {
      "cell_type": "markdown",
      "metadata": {
        "id": "view-in-github",
        "colab_type": "text"
      },
      "source": [
        "<a href=\"https://colab.research.google.com/github/Nico-lly/INFNET-bootcamp-/blob/main/Desafio_deputados_reeleitos_API.ipynb\" target=\"_parent\"><img src=\"https://colab.research.google.com/assets/colab-badge.svg\" alt=\"Open In Colab\"/></a>"
      ]
    },
    {
      "cell_type": "code",
      "metadata": {
        "id": "8vkNtahSdJ0a"
      },
      "source": [
        " import requests\n",
        "import json"
      ],
      "execution_count": null,
      "outputs": []
    },
    {
      "cell_type": "code",
      "metadata": {
        "id": "u8sE02ZydMha"
      },
      "source": [
        "#Ler as informações em texto das urls e transformar num json\n",
        " \n",
        "URL_atual = \"https://dadosabertos.camara.leg.br/api/v2/deputados?ordem=ASC&ordenarPor=nome\"\n",
        "response_atual = requests.get (URL_atual)\n",
        "json_atual = response_atual.json()\n",
        " \n",
        "URL_anterior = \"https://dadosabertos.camara.leg.br/api/v2/deputados?idLegislatura=55&ordem=ASC&ordenarPor=nome\"\n",
        "response_anterior = requests.get (URL_anterior)\n",
        "json_anterior = response_anterior.json()\n",
        " "
      ],
      "execution_count": null,
      "outputs": []
    },
    {
      "cell_type": "code",
      "metadata": {
        "id": "BZmt7ScrdPgV"
      },
      "source": [
        "#recolher os dados dos deputados \n",
        " \n",
        "dados_atual = json_atual['dados']\n",
        "dados_anterior = json_anterior['dados']"
      ],
      "execution_count": null,
      "outputs": []
    },
    {
      "cell_type": "code",
      "metadata": {
        "colab": {
          "base_uri": "https://localhost:8080/"
        },
        "id": "JHNa8BInQz90",
        "outputId": "cf8992ce-9ed8-4f7d-bf51-59ad2d694f5c"
      },
      "source": [
        "#Identificar os deputados reeleitos\n",
        " \n",
        "reeleitos = {}\n",
        " \n",
        "for deputado in dados_atual:\n",
        "  for deputado_antigo in dados_anterior:\n",
        "   if deputado[\"nome\"].upper() == deputado_antigo[\"nome\"].upper(): \n",
        "     if (deputado[\"siglaUf\"] not in reeleitos):\n",
        "       reeleitos[deputado[\"siglaUf\"]]=1\n",
        "     else:\n",
        "      reeleitos[deputado[\"siglaUf\"]]+=1\n",
        " \n",
        "print(reeleitos)"
      ],
      "execution_count": null,
      "outputs": [
        {
          "output_type": "stream",
          "text": [
            "{'MG': 28, 'BA': 23, 'RS': 18, 'PB': 6, 'AC': 4, 'RJ': 15, 'SP': 38, 'PR': 14, 'MA': 7, 'AP': 3, 'PE': 15, 'CE': 9, 'AL': 5, 'AM': 2, 'PI': 6, 'PA': 7, 'RN': 3, 'SE': 5, 'MT': 1, 'TO': 4, 'SC': 5, 'GO': 7, 'MS': 4, 'RR': 4, 'DF': 1, 'ES': 3, 'RO': 3}\n"
          ],
          "name": "stdout"
        }
      ]
    },
    {
      "cell_type": "code",
      "metadata": {
        "id": "cK1c8gpLnpE4"
      },
      "source": [
        ""
      ],
      "execution_count": null,
      "outputs": []
    }
  ]
}