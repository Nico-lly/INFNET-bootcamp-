{
  "nbformat": 4,
  "nbformat_minor": 0,
  "metadata": {
    "colab": {
      "name": "Exercicio de webscrap IMDB  .ipynb",
      "provenance": [],
      "collapsed_sections": [],
      "authorship_tag": "ABX9TyNwRfef8Mm6Z2pK4m8BzROf",
      "include_colab_link": true
    },
    "kernelspec": {
      "name": "python3",
      "display_name": "Python 3"
    },
    "language_info": {
      "name": "python"
    }
  },
  "cells": [
    {
      "cell_type": "markdown",
      "metadata": {
        "id": "view-in-github",
        "colab_type": "text"
      },
      "source": [
        "<a href=\"https://colab.research.google.com/github/Nico-lly/INFNET-bootcamp-/blob/main/Exercicio_de_webscrap_IMDB_.ipynb\" target=\"_parent\"><img src=\"https://colab.research.google.com/assets/colab-badge.svg\" alt=\"Open In Colab\"/></a>"
      ]
    },
    {
      "cell_type": "code",
      "metadata": {
        "id": "rz_COgDClp-c"
      },
      "source": [
        "from bs4 import BeautifulSoup\n",
        "import pandas as pd\n",
        "import requests"
      ],
      "execution_count": null,
      "outputs": []
    },
    {
      "cell_type": "code",
      "metadata": {
        "id": "YiNLBdgulP3Q"
      },
      "source": [
        "html =  requests.get('https://www.imdb.com/list/ls088181017/?ref_=hm_edcft_ft_netflix_a_2/title/tt1190080/').content\n",
        "soup = BeautifulSoup(html, 'html.parser')\n",
        "filmes = soup.find_all('h3', class_='lister-item-header')"
      ],
      "execution_count": null,
      "outputs": []
    },
    {
      "cell_type": "code",
      "metadata": {
        "colab": {
          "base_uri": "https://localhost:8080/"
        },
        "id": "X4hLK8Vtp3OY",
        "outputId": "e227818a-42a9-4548-a806-affa87a04a26"
      },
      "source": [
        "links = []\n",
        "url = 'https://www.imdb.com'\n",
        "\n",
        "for filme in filmes:\n",
        "  links.append(url+filme.a['href'])\n",
        "\n",
        "links[:5]"
      ],
      "execution_count": null,
      "outputs": [
        {
          "output_type": "execute_result",
          "data": {
            "text/plain": [
              "['https://www.imdb.com/title/tt1190080/',\n",
              " 'https://www.imdb.com/title/tt1385867/',\n",
              " 'https://www.imdb.com/title/tt1632708/',\n",
              " 'https://www.imdb.com/title/tt1591095/',\n",
              " 'https://www.imdb.com/title/tt0250494/']"
            ]
          },
          "metadata": {
            "tags": []
          },
          "execution_count": 33
        }
      ]
    },
    {
      "cell_type": "code",
      "metadata": {
        "id": "1aLHvnFzqoLs"
      },
      "source": [
        "  html_page = requests.get('https://www.imdb.com/title/tt1190080/').content\n",
        "  soup_page = BeautifulSoup(html_page, 'html.parser')"
      ],
      "execution_count": null,
      "outputs": []
    },
    {
      "cell_type": "code",
      "metadata": {
        "id": "sjDQ8WcIqxyg"
      },
      "source": [
        "worlds_list = []\n",
        "titles_list = []\n",
        "\n",
        "for link in links:\n",
        "  #Fazendo o request e interpretando cada link da lista\n",
        "  html_page = requests.get(link).content\n",
        "  soup_page = BeautifulSoup(html_page, 'html.parser')\n",
        "  #Salvando apenas palavras chaves em variáveis e appendando em uma lista\n",
        "  worlds = soup_page.find_all('span', class_=\"itemprop\")\n",
        "  w_list = [world.text.strip() for world in worlds]\n",
        "  worlds_list.append(w_list[:3])\n",
        "  #Salvando apenas palavras chaves em variáveis e appendando em uma lista \n",
        "  titles = soup_page.find_all('h1')\n",
        "  t_list = [title.text.replace('\\xa0', ' ').strip() for title in titles]\n",
        "  titles_list.append(t_list)"
      ],
      "execution_count": null,
      "outputs": []
    },
    {
      "cell_type": "code",
      "metadata": {
        "id": "QwBZ9CITv-iu"
      },
      "source": [
        "movies_df = pd.DataFrame()\n",
        "movies_df['Titles'] = titles_list\n",
        "movies_df['Worlds'] = worlds_list"
      ],
      "execution_count": null,
      "outputs": []
    },
    {
      "cell_type": "code",
      "metadata": {
        "colab": {
          "base_uri": "https://localhost:8080/",
          "height": 204
        },
        "id": "TxTJJx-mG9xK",
        "outputId": "f35e503d-fa3a-432b-8dd7-8da1902732fc"
      },
      "source": [
        "movies_df.head()"
      ],
      "execution_count": null,
      "outputs": [
        {
          "output_type": "execute_result",
          "data": {
            "text/html": [
              "<div>\n",
              "<style scoped>\n",
              "    .dataframe tbody tr th:only-of-type {\n",
              "        vertical-align: middle;\n",
              "    }\n",
              "\n",
              "    .dataframe tbody tr th {\n",
              "        vertical-align: top;\n",
              "    }\n",
              "\n",
              "    .dataframe thead th {\n",
              "        text-align: right;\n",
              "    }\n",
              "</style>\n",
              "<table border=\"1\" class=\"dataframe\">\n",
              "  <thead>\n",
              "    <tr style=\"text-align: right;\">\n",
              "      <th></th>\n",
              "      <th>Titles</th>\n",
              "      <th>Worlds</th>\n",
              "    </tr>\n",
              "  </thead>\n",
              "  <tbody>\n",
              "    <tr>\n",
              "      <th>0</th>\n",
              "      <td>[2012 (2009)]</td>\n",
              "      <td>[apocalypse, earthquake, end of the world]</td>\n",
              "    </tr>\n",
              "    <tr>\n",
              "      <th>1</th>\n",
              "      <td>[Cop Out (2010)]</td>\n",
              "      <td>[united states of america, usa, weapon]</td>\n",
              "    </tr>\n",
              "    <tr>\n",
              "      <th>2</th>\n",
              "      <td>[Friends with Benefits (2011)]</td>\n",
              "      <td>[female rear nudity, oral sex, blow job]</td>\n",
              "    </tr>\n",
              "    <tr>\n",
              "      <th>3</th>\n",
              "      <td>[Insidious (2010)]</td>\n",
              "      <td>[boy, house, coma]</td>\n",
              "    </tr>\n",
              "    <tr>\n",
              "      <th>4</th>\n",
              "      <td>[Legally Blonde (2001)]</td>\n",
              "      <td>[law, harvard, law school]</td>\n",
              "    </tr>\n",
              "  </tbody>\n",
              "</table>\n",
              "</div>"
            ],
            "text/plain": [
              "                           Titles                                      Worlds\n",
              "0                   [2012 (2009)]  [apocalypse, earthquake, end of the world]\n",
              "1                [Cop Out (2010)]     [united states of america, usa, weapon]\n",
              "2  [Friends with Benefits (2011)]    [female rear nudity, oral sex, blow job]\n",
              "3              [Insidious (2010)]                          [boy, house, coma]\n",
              "4         [Legally Blonde (2001)]                  [law, harvard, law school]"
            ]
          },
          "metadata": {
            "tags": []
          },
          "execution_count": 51
        }
      ]
    },
    {
      "cell_type": "code",
      "metadata": {
        "id": "MOgtKQY_G_li"
      },
      "source": [
        ""
      ],
      "execution_count": null,
      "outputs": []
    }
  ]
}