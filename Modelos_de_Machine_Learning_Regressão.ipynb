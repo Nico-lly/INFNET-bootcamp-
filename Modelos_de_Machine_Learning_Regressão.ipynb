{
  "nbformat": 4,
  "nbformat_minor": 0,
  "metadata": {
    "colab": {
      "name": "Modelos de Machine Learning - Regressão.ipynb",
      "provenance": [],
      "collapsed_sections": [],
      "authorship_tag": "ABX9TyM+w+oZaQIpxeBHm0LIg7iD",
      "include_colab_link": true
    },
    "kernelspec": {
      "display_name": "Python 3",
      "name": "python3"
    }
  },
  "cells": [
    {
      "cell_type": "markdown",
      "metadata": {
        "id": "view-in-github",
        "colab_type": "text"
      },
      "source": [
        "<a href=\"https://colab.research.google.com/github/Nico-lly/INFNET-bootcamp-/blob/main/Modelos_de_Machine_Learning_Regress%C3%A3o.ipynb\" target=\"_parent\"><img src=\"https://colab.research.google.com/assets/colab-badge.svg\" alt=\"Open In Colab\"/></a>"
      ]
    },
    {
      "cell_type": "markdown",
      "metadata": {
        "id": "QZEaZDqCRoCQ"
      },
      "source": [
        "#-------------------Pré-processamento dos dados-------------------\n",
        "\n",
        "\n",
        "\n",
        "Antes de submeter nossos dados a processamentos em modelos de machine learning, precisamos fazer alguns ajustes para que fiquem de acordo com as demandas estatísticas de cada modelo. Variando com o modelo escolhido e o tipo de dado que será manipulado.\n"
      ]
    },
    {
      "cell_type": "markdown",
      "metadata": {
        "id": "4zJ81YxnmNol"
      },
      "source": [
        "## > > Conhecendo os dados e selecionando colunas\n",
        "\n",
        "\n",
        "\n",
        "Para este bloco de aprendizagem, utilizaremos o o dataset Real Estate Valuation data set da UCI, e separaremos as colunas abaixo para tornar o exemplo mais didático na aplicação dos modelos de regressão.\n",
        "\n",
        "X2 house age: Idade da construção da casa\n",
        "\n",
        "X4 number of convenience stores: Lojas de conveniência próximas\n",
        "\n",
        "Y house price of unit area: Preço da casa\n"
      ]
    },
    {
      "cell_type": "code",
      "metadata": {
        "colab": {
          "base_uri": "https://localhost:8080/",
          "height": 204
        },
        "id": "uTsVzQl-mMlk",
        "outputId": "b715fe4c-52d5-4e57-c2a3-ce2a0f7099e7"
      },
      "source": [
        "import pandas as pd\n",
        "file = pd.read_excel('https://archive.ics.uci.edu/ml/machine-learning-databases/00477/Real%20estate%20valuation%20data%20set.xlsx')\n",
        "regr_data = file[['X2 house age','X4 number of convenience stores', 'Y house price of unit area']]\n",
        "regr_data.head()"
      ],
      "execution_count": null,
      "outputs": [
        {
          "output_type": "execute_result",
          "data": {
            "text/html": [
              "<div>\n",
              "<style scoped>\n",
              "    .dataframe tbody tr th:only-of-type {\n",
              "        vertical-align: middle;\n",
              "    }\n",
              "\n",
              "    .dataframe tbody tr th {\n",
              "        vertical-align: top;\n",
              "    }\n",
              "\n",
              "    .dataframe thead th {\n",
              "        text-align: right;\n",
              "    }\n",
              "</style>\n",
              "<table border=\"1\" class=\"dataframe\">\n",
              "  <thead>\n",
              "    <tr style=\"text-align: right;\">\n",
              "      <th></th>\n",
              "      <th>X2 house age</th>\n",
              "      <th>X4 number of convenience stores</th>\n",
              "      <th>Y house price of unit area</th>\n",
              "    </tr>\n",
              "  </thead>\n",
              "  <tbody>\n",
              "    <tr>\n",
              "      <th>0</th>\n",
              "      <td>32.0</td>\n",
              "      <td>10</td>\n",
              "      <td>37.9</td>\n",
              "    </tr>\n",
              "    <tr>\n",
              "      <th>1</th>\n",
              "      <td>19.5</td>\n",
              "      <td>9</td>\n",
              "      <td>42.2</td>\n",
              "    </tr>\n",
              "    <tr>\n",
              "      <th>2</th>\n",
              "      <td>13.3</td>\n",
              "      <td>5</td>\n",
              "      <td>47.3</td>\n",
              "    </tr>\n",
              "    <tr>\n",
              "      <th>3</th>\n",
              "      <td>13.3</td>\n",
              "      <td>5</td>\n",
              "      <td>54.8</td>\n",
              "    </tr>\n",
              "    <tr>\n",
              "      <th>4</th>\n",
              "      <td>5.0</td>\n",
              "      <td>5</td>\n",
              "      <td>43.1</td>\n",
              "    </tr>\n",
              "  </tbody>\n",
              "</table>\n",
              "</div>"
            ],
            "text/plain": [
              "   X2 house age  X4 number of convenience stores  Y house price of unit area\n",
              "0          32.0                               10                        37.9\n",
              "1          19.5                                9                        42.2\n",
              "2          13.3                                5                        47.3\n",
              "3          13.3                                5                        54.8\n",
              "4           5.0                                5                        43.1"
            ]
          },
          "metadata": {
            "tags": []
          },
          "execution_count": 47
        }
      ]
    },
    {
      "cell_type": "markdown",
      "metadata": {
        "id": "f9AkRZLqSAeL"
      },
      "source": [
        "##Escalonamento\n",
        "\n",
        "\n",
        "Escalonar é colocar todos os valores numa escala sem distorcer a distância da distribuição entre os valores(variância).\n",
        "Antes de inserir os dados em um modelo, é importante ajusta-los em uma mesma escala (\"régua\") para evitar enviesamentos e tornar possível uma comparação entre esses valores de forma mais justa. Existem muitas formas de escalonamento, mas as mais utilizadas em ciência de dados são:"
      ]
    },
    {
      "cell_type": "markdown",
      "metadata": {
        "id": "SG2tVnrpShyq"
      },
      "source": [
        "###Padronização\n",
        "\n",
        "É utilizado apenas em distribuições normais (gausiana), geralmente é utilizado o cálculo do Z-Score, que transforma a média em zero e o desvio padrão em um:\n",
        "\n",
        "                  Z = x - mean(x) / sdev(x)"
      ]
    },
    {
      "cell_type": "code",
      "metadata": {
        "id": "kFEROSDaSr82"
      },
      "source": [
        "from sklearn.preprocessing import StandardScaler"
      ],
      "execution_count": null,
      "outputs": []
    },
    {
      "cell_type": "code",
      "metadata": {
        "colab": {
          "base_uri": "https://localhost:8080/"
        },
        "id": "A1r40iJuSsc3",
        "outputId": "8de39359-1503-48ad-8bee-ed8312ac14b9"
      },
      "source": [
        "std = StandardScaler().fit_transform(file)\n",
        "std"
      ],
      "execution_count": null,
      "outputs": [
        {
          "output_type": "execute_result",
          "data": {
            "text/plain": [
              "array([[-1.72787215, -0.82472165,  1.25562833, ...,  1.12542986,\n",
              "         0.44876222, -0.00590088],\n",
              "       [-1.71950473, -0.82472165,  0.15708622, ...,  0.91244418,\n",
              "         0.40113894,  0.3105072 ],\n",
              "       [-1.71113731,  1.54224386, -0.38779067, ...,  1.48686011,\n",
              "         0.68818339,  0.6857819 ],\n",
              "       ...,\n",
              "       [ 1.71113731,  0.35876111,  0.09556786, ...,  0.82289338,\n",
              "         0.42397202,  0.19277396],\n",
              "       [ 1.71950473, -0.52885105, -0.84478419, ..., -0.18475479,\n",
              "         0.4768143 ,  1.06841493],\n",
              "       [ 1.72787215,  1.24637326, -0.98539758, ...,  0.42757905,\n",
              "         0.63534112,  1.90726426]])"
            ]
          },
          "metadata": {
            "tags": []
          },
          "execution_count": 49
        }
      ]
    },
    {
      "cell_type": "markdown",
      "metadata": {
        "id": "c89XF6tuTANj"
      },
      "source": [
        "###Normalização\n",
        "\n",
        "Pode ser utilizada em qualquer distribuição de dados, colocando as variáveis entre um intervalo de -1 à 1.\n",
        "Existem algumas formas de calcular a normalização:\n",
        "\n",
        "\n",
        "*   Min - Max:\n",
        "\n",
        "             Y = x - mean(x) / [max(x) - min(x)]\n"
      ]
    },
    {
      "cell_type": "code",
      "metadata": {
        "id": "qmE5ZZs2TG8-"
      },
      "source": [
        "from sklearn.preprocessing import MinMaxScaler"
      ],
      "execution_count": null,
      "outputs": []
    },
    {
      "cell_type": "code",
      "metadata": {
        "colab": {
          "base_uri": "https://localhost:8080/"
        },
        "id": "wJuiT1OVTJdj",
        "outputId": "e9079903-cbe2-440b-85b4-2d1c6c3bb385"
      },
      "source": [
        "minmax = MinMaxScaler().fit_transform(file)\n",
        "minmax"
      ],
      "execution_count": null,
      "outputs": [
        {
          "output_type": "execute_result",
          "data": {
            "text/plain": [
              "array([[0.        , 0.27272729, 0.73059361, ..., 0.61694135, 0.71932284,\n",
              "        0.27570519],\n",
              "       [0.00242131, 0.27272729, 0.44520548, ..., 0.5849491 , 0.71145137,\n",
              "        0.31483167],\n",
              "       [0.00484262, 1.        , 0.30365297, ..., 0.67123122, 0.75889584,\n",
              "        0.36123749],\n",
              "       ...,\n",
              "       [0.99515738, 0.63636365, 0.42922374, ..., 0.57149782, 0.71522536,\n",
              "        0.30027298],\n",
              "       [0.99757869, 0.36363635, 0.18493151, ..., 0.42014057, 0.72395946,\n",
              "        0.40855323],\n",
              "       [1.        , 0.90909094, 0.14840183, ..., 0.51211827, 0.75016174,\n",
              "        0.51228389]])"
            ]
          },
          "metadata": {
            "tags": []
          },
          "execution_count": 51
        }
      ]
    },
    {
      "cell_type": "markdown",
      "metadata": {
        "id": "VgCL9Kr6TTG_"
      },
      "source": [
        "##> > De volta aos dados\n",
        "\n",
        "Para esses valores, escolhemos a **normalização**, pois não temos uma distribuição normal dos valores.\n",
        "Depois transformaremos os arrays dessa saída de volta em um dataframe e renomearemos as colunas:\n",
        "\n",
        "X2 house age >> Age\n",
        "\n",
        "X4 number of convenience stores >> Convenience_Store\n",
        "\n",
        "Y house price of unit area >> Price"
      ]
    },
    {
      "cell_type": "code",
      "metadata": {
        "colab": {
          "base_uri": "https://localhost:8080/",
          "height": 204
        },
        "id": "PfgYb9IWT7vO",
        "outputId": "925fdd68-3529-4102-8b59-41b06dca4116"
      },
      "source": [
        "from sklearn.preprocessing import MinMaxScaler\n",
        "df_regr = pd.DataFrame(MinMaxScaler().fit_transform(regr_data))\n",
        "df_regr.columns = ['Age', 'Convenience_Store', 'Price']\n",
        "df_regr.head()"
      ],
      "execution_count": null,
      "outputs": [
        {
          "output_type": "execute_result",
          "data": {
            "text/html": [
              "<div>\n",
              "<style scoped>\n",
              "    .dataframe tbody tr th:only-of-type {\n",
              "        vertical-align: middle;\n",
              "    }\n",
              "\n",
              "    .dataframe tbody tr th {\n",
              "        vertical-align: top;\n",
              "    }\n",
              "\n",
              "    .dataframe thead th {\n",
              "        text-align: right;\n",
              "    }\n",
              "</style>\n",
              "<table border=\"1\" class=\"dataframe\">\n",
              "  <thead>\n",
              "    <tr style=\"text-align: right;\">\n",
              "      <th></th>\n",
              "      <th>Age</th>\n",
              "      <th>Convenience_Store</th>\n",
              "      <th>Price</th>\n",
              "    </tr>\n",
              "  </thead>\n",
              "  <tbody>\n",
              "    <tr>\n",
              "      <th>0</th>\n",
              "      <td>0.730594</td>\n",
              "      <td>1.0</td>\n",
              "      <td>0.275705</td>\n",
              "    </tr>\n",
              "    <tr>\n",
              "      <th>1</th>\n",
              "      <td>0.445205</td>\n",
              "      <td>0.9</td>\n",
              "      <td>0.314832</td>\n",
              "    </tr>\n",
              "    <tr>\n",
              "      <th>2</th>\n",
              "      <td>0.303653</td>\n",
              "      <td>0.5</td>\n",
              "      <td>0.361237</td>\n",
              "    </tr>\n",
              "    <tr>\n",
              "      <th>3</th>\n",
              "      <td>0.303653</td>\n",
              "      <td>0.5</td>\n",
              "      <td>0.429481</td>\n",
              "    </tr>\n",
              "    <tr>\n",
              "      <th>4</th>\n",
              "      <td>0.114155</td>\n",
              "      <td>0.5</td>\n",
              "      <td>0.323021</td>\n",
              "    </tr>\n",
              "  </tbody>\n",
              "</table>\n",
              "</div>"
            ],
            "text/plain": [
              "        Age  Convenience_Store     Price\n",
              "0  0.730594                1.0  0.275705\n",
              "1  0.445205                0.9  0.314832\n",
              "2  0.303653                0.5  0.361237\n",
              "3  0.303653                0.5  0.429481\n",
              "4  0.114155                0.5  0.323021"
            ]
          },
          "metadata": {
            "tags": []
          },
          "execution_count": 52
        }
      ]
    },
    {
      "cell_type": "markdown",
      "metadata": {
        "id": "pdpU_9QY637w"
      },
      "source": [
        "#---------------------MODELOS DE REGRESSÃO------------------------\n",
        "\n",
        "\n",
        "\n"
      ]
    },
    {
      "cell_type": "markdown",
      "metadata": {
        "id": "wnS3R-Lu1BpS"
      },
      "source": [
        "Quando falamos de modelos de regressão, estamos falando sobre encontrar uma equação, dada distribuição dos dados, que descreva a melhor média entre todos os dados, afim de identificar um padrão de comportamento \n",
        " e prever uma possível tentência.\n"
      ]
    },
    {
      "cell_type": "markdown",
      "metadata": {
        "id": "Az5we4ID0daT"
      },
      "source": [
        "##Correlação e Causalidade\n",
        "\n",
        "Correlação: Mede a extenção da interdependência entre variáveis.\n",
        "\n",
        "Causalidade: Relação de causa e efeito.\n",
        "\n",
        "##Teste de força da correlação\n",
        "\n",
        "###Correlação de Pearson\n",
        "\n",
        "Mede a correlação linear (e apenas linear nos parâmetros e na relação, ao contrário d polinomial) entre duas variáveis com valores entre -1 à 1, onde:\n",
        "*   1 = Correlação linear positiva total\n",
        "*   0 = Sem correlação linear\n",
        "*  -1 = Correlação linear negativa total\n"
      ]
    },
    {
      "cell_type": "code",
      "metadata": {
        "colab": {
          "base_uri": "https://localhost:8080/",
          "height": 142
        },
        "id": "zk2GkYhyqr6u",
        "outputId": "c961238c-e749-48e8-e993-b17007c2c5b7"
      },
      "source": [
        "# Por defaut, apresenta a correlação de Pearson\n",
        "df_regr.corr()"
      ],
      "execution_count": null,
      "outputs": [
        {
          "output_type": "execute_result",
          "data": {
            "text/html": [
              "<div>\n",
              "<style scoped>\n",
              "    .dataframe tbody tr th:only-of-type {\n",
              "        vertical-align: middle;\n",
              "    }\n",
              "\n",
              "    .dataframe tbody tr th {\n",
              "        vertical-align: top;\n",
              "    }\n",
              "\n",
              "    .dataframe thead th {\n",
              "        text-align: right;\n",
              "    }\n",
              "</style>\n",
              "<table border=\"1\" class=\"dataframe\">\n",
              "  <thead>\n",
              "    <tr style=\"text-align: right;\">\n",
              "      <th></th>\n",
              "      <th>Age</th>\n",
              "      <th>Convenience_Store</th>\n",
              "      <th>Price</th>\n",
              "    </tr>\n",
              "  </thead>\n",
              "  <tbody>\n",
              "    <tr>\n",
              "      <th>Age</th>\n",
              "      <td>1.000000</td>\n",
              "      <td>0.049593</td>\n",
              "      <td>-0.210567</td>\n",
              "    </tr>\n",
              "    <tr>\n",
              "      <th>Convenience_Store</th>\n",
              "      <td>0.049593</td>\n",
              "      <td>1.000000</td>\n",
              "      <td>0.571005</td>\n",
              "    </tr>\n",
              "    <tr>\n",
              "      <th>Price</th>\n",
              "      <td>-0.210567</td>\n",
              "      <td>0.571005</td>\n",
              "      <td>1.000000</td>\n",
              "    </tr>\n",
              "  </tbody>\n",
              "</table>\n",
              "</div>"
            ],
            "text/plain": [
              "                        Age  Convenience_Store     Price\n",
              "Age                1.000000           0.049593 -0.210567\n",
              "Convenience_Store  0.049593           1.000000  0.571005\n",
              "Price             -0.210567           0.571005  1.000000"
            ]
          },
          "metadata": {
            "tags": []
          },
          "execution_count": 53
        }
      ]
    },
    {
      "cell_type": "markdown",
      "metadata": {
        "id": "C2HkrhsI03Da"
      },
      "source": [
        "\n",
        "\n",
        "####P-Value\n",
        "\n",
        "Mede a probabilidade da correlação descoberta ser estatísticamente significativa.\n",
        "\n",
        "Ao realizar o teste de hipótese (H0 - H1), verifica se o valor da correlação está ou não contido na região de rejeição que, por sua vez, é determinado pelo nível de significância.\n",
        "\n",
        "Desta forma, se o P-value é menor que o nível de significância, rejeitamos a hipótese nula H0 (nesse caso, de que a correlação É estatisticamente significativa), e assume-se a hipótese alternativa H1 (nesse caso, que a correlação NÃO É estatísticamente significativa).\n",
        "\n",
        "\n",
        "\n",
        "\n",
        "\n"
      ]
    },
    {
      "cell_type": "code",
      "metadata": {
        "id": "myW_zabKybdz"
      },
      "source": [
        "import numpy as np\n",
        "from scipy import stats"
      ],
      "execution_count": null,
      "outputs": []
    },
    {
      "cell_type": "code",
      "metadata": {
        "colab": {
          "base_uri": "https://localhost:8080/"
        },
        "id": "YZEGcg27ZbnJ",
        "outputId": "eea87807-043e-4b6c-b511-55ec128f91fa"
      },
      "source": [
        "pearson_coef, p_value = stats.pearsonr(df_regr['Convenience_Store'], df_regr['Price'])\n",
        "print(pearson_coef, p_value)"
      ],
      "execution_count": null,
      "outputs": [
        {
          "output_type": "stream",
          "text": [
            "0.5710049111111485 3.413483340495673e-37\n"
          ],
          "name": "stdout"
        }
      ]
    },
    {
      "cell_type": "markdown",
      "metadata": {
        "id": "gP1ipCzxznny"
      },
      "source": [
        "##Métricas de avaliação de Regressão\n",
        "\n",
        "Ao criar um modelo, é preciso testar se ele é preciso(ou quão preciso ele é) para estimar as nossas predições, se eles são estatísticamente significantivos, ou seja, capazes de generalizações."
      ]
    },
    {
      "cell_type": "markdown",
      "metadata": {
        "id": "YOp8Qf78z4Tl"
      },
      "source": [
        "###R Quadrado (R^2):\n",
        "\n",
        "É o coeficiente de determinação, informando a eficiência de precisão do seu modelo em porcentagem, dado as operações realizadas com seu conjunto de dados (train e test).\n",
        "\n",
        "Quanto maior, mais preciso e varia entre 0 e 1\n"
      ]
    },
    {
      "cell_type": "code",
      "metadata": {
        "id": "Bl5nYuKozU7E"
      },
      "source": [
        "from sklearn.metrics import r2_score"
      ],
      "execution_count": null,
      "outputs": []
    },
    {
      "cell_type": "markdown",
      "metadata": {
        "id": "0BVqy3v1HKzJ"
      },
      "source": [
        "###Mean Absolut Error (MAE):\n",
        "\n",
        "Calcula a média de todos os erros (variâncias), informando quantos pontos para mais ou para menos, sua predição tende a variar, podendo desta forma, ser um número positivo ou negativo. Quanto mais próximo de zero o MAE, mais preciso é o modelo.\n",
        "(ex.: Se o valor real é igual a 4 e o modelo previu o valor 6, o MAE é de 2 pontos)"
      ]
    },
    {
      "cell_type": "code",
      "metadata": {
        "id": "fE7Db4FrIXjw"
      },
      "source": [
        "from sklearn.metrics import mean_absolute_error"
      ],
      "execution_count": null,
      "outputs": []
    },
    {
      "cell_type": "markdown",
      "metadata": {
        "id": "tiRThmi5IYJs"
      },
      "source": [
        "##Mean Squared Error (MSE)\n",
        "\n",
        "Calcula a média de todas as variâncias, mas enfatiza os valores outliers(valores extremos na distribuição). Sempre retorna um valor positivo e com maior influência desses pontos com maior variância.\n",
        "Sendo assim, quando o MSE está muito alto, quer dizer que seu modelo não está levando muito em consideração a variância da distribuição caracterizando um *underfiting*; \n",
        "Enquanto um MSE igual a zero quer dizer sua regressão não encontrou uma linha média, mas uma linha que passasse por todos os pontos da sua distribuição, caracterizando desta forma, um *overfitting*. \n",
        "\n",
        "\n",
        "Para deixar o resultado dessa métrica na mesma escala que as apresentada acima, tiramos sua raiz quadrada, obtendo o **RMSE**. \n"
      ]
    },
    {
      "cell_type": "code",
      "metadata": {
        "id": "eVn-RtxyK_an"
      },
      "source": [
        "from sklearn.metrics import mean_squared_error"
      ],
      "execution_count": null,
      "outputs": []
    },
    {
      "cell_type": "markdown",
      "metadata": {
        "id": "G6fckMCN6yUx"
      },
      "source": [
        "\n",
        "#Regressão Linear\n",
        " \n",
        "Analisa a tendência linear de uma relação entre uma variável dependente (target) e uma ou mais variáveis independentes (predictive). Quando existem mais de uma variável, ela é chamada de *Regressão Linear Multipla*."
      ]
    },
    {
      "cell_type": "code",
      "metadata": {
        "id": "LyrcK2sz61ya"
      },
      "source": [
        "import numpy as np\n",
        "from sklearn.linear_model import LinearRegression\n",
        "from sklearn.model_selection import train_test_split\n",
        "import matplotlib.pyplot as plt\n",
        "import seaborn as sns"
      ],
      "execution_count": null,
      "outputs": []
    },
    {
      "cell_type": "markdown",
      "metadata": {
        "id": "7ihImmBIz6rf"
      },
      "source": [
        "###Simples"
      ]
    },
    {
      "cell_type": "code",
      "metadata": {
        "colab": {
          "base_uri": "https://localhost:8080/",
          "height": 282
        },
        "id": "vJgVQwwyrxdU",
        "outputId": "c137195f-b68b-42c9-dd0d-d549a8684302"
      },
      "source": [
        "# Defina as Variáveis X e Y \n",
        "\n",
        "X = df_regr[['Age']]\n",
        "Y = df_regr['Price']\n",
        "\n",
        "# Verifique a correlação entre as suas variáveis em relação ao seu target\n",
        "#import matplotlib.pyplot as plt\n",
        "plt.scatter(x = X, y = Y)\n"
      ],
      "execution_count": null,
      "outputs": [
        {
          "output_type": "execute_result",
          "data": {
            "text/plain": [
              "<matplotlib.collections.PathCollection at 0x7fd57e560ed0>"
            ]
          },
          "metadata": {
            "tags": []
          },
          "execution_count": 60
        },
        {
          "output_type": "display_data",
          "data": {
            "image/png": "[encoded data removed]",
            "text/plain": [
              "<Figure size 432x288 with 1 Axes>"
            ]
          },
          "metadata": {
            "tags": [],
            "needs_background": "light"
          }
        }
      ]
    },
    {
      "cell_type": "code",
      "metadata": {
        "id": "jMPGm7rdsER1"
      },
      "source": [
        "# Divida seus dados em treino e teste\n",
        "\n",
        "#from sklearn.model_selection import train_test_split\n",
        "x_train, x_test, y_train, y_test = train_test_split(X, Y, test_size = 0.3, random_state = 0)\n",
        "\n",
        "# Normalize ou padronize as colunas necessárias (aqui não será necessário)"
      ],
      "execution_count": null,
      "outputs": []
    },
    {
      "cell_type": "code",
      "metadata": {
        "id": "duYfacGdsYyF"
      },
      "source": [
        "# Crie seu objeto de regressão linear\n",
        "\n",
        "lr = LinearRegression()"
      ],
      "execution_count": null,
      "outputs": []
    },
    {
      "cell_type": "code",
      "metadata": {
        "colab": {
          "base_uri": "https://localhost:8080/"
        },
        "id": "n-DxTm5Tsmtl",
        "outputId": "d355ff59-17cb-43c5-8c19-49d5d3a5f48b"
      },
      "source": [
        "# Treine seu modelo com as variáveis de treino\n",
        "\n",
        "lr.fit(x_train, y_train)"
      ],
      "execution_count": null,
      "outputs": [
        {
          "output_type": "execute_result",
          "data": {
            "text/plain": [
              "LinearRegression(copy_X=True, fit_intercept=True, n_jobs=None, normalize=False)"
            ]
          },
          "metadata": {
            "tags": []
          },
          "execution_count": 63
        }
      ]
    },
    {
      "cell_type": "code",
      "metadata": {
        "id": "fw1AHT2Rsw7Y"
      },
      "source": [
        "# Verifique as métricas de precisão para treino"
      ],
      "execution_count": null,
      "outputs": []
    },
    {
      "cell_type": "code",
      "metadata": {
        "colab": {
          "base_uri": "https://localhost:8080/",
          "height": 296
        },
        "id": "-IwRCnPPtC9q",
        "outputId": "4bfbd54e-23c5-44db-f7c8-2b86554b4a1a"
      },
      "source": [
        "# Faça a predição\n",
        "\n",
        "Yhat = lr.predict(x_test)\n",
        "Yhat\n",
        "\n",
        "#import seaborn as sns\n",
        "sns.regplot(x = y_test, y = Yhat, data = df_regr)\n"
      ],
      "execution_count": null,
      "outputs": [
        {
          "output_type": "execute_result",
          "data": {
            "text/plain": [
              "<matplotlib.axes._subplots.AxesSubplot at 0x7fd57e558710>"
            ]
          },
          "metadata": {
            "tags": []
          },
          "execution_count": 65
        },
        {
          "output_type": "display_data",
          "data": {
            "image/png": "[encoded data removed]",
            "text/plain": [
              "<Figure size 432x288 with 1 Axes>"
            ]
          },
          "metadata": {
            "tags": [],
            "needs_background": "light"
          }
        }
      ]
    },
    {
      "cell_type": "code",
      "metadata": {
        "id": "1jsdospikh2U"
      },
      "source": [
        "# Verifique as métricas de precisão para teste\n",
        "\n",
        "#from sklearn.metrics import r2_score\n",
        "#from sklearn.metrics import mean_absolute_error\n",
        "#from sklearn.metrics import mean_squared_error"
      ],
      "execution_count": null,
      "outputs": []
    },
    {
      "cell_type": "code",
      "metadata": {
        "id": "JBMvZQG4kW5y",
        "colab": {
          "base_uri": "https://localhost:8080/"
        },
        "outputId": "00ec3492-c09c-4bb2-ccf0-9e393fef73c7"
      },
      "source": [
        "print('R2: ', r2_score(y_test, Yhat))\n",
        "print('MAE: ', mean_absolute_error(y_test, Yhat))\n",
        "print('MSE: ', mean_squared_error(y_test, Yhat))\n",
        "print('RMSE: ', np.sqrt(mean_squared_error(y_test, Yhat)))"
      ],
      "execution_count": null,
      "outputs": [
        {
          "output_type": "stream",
          "text": [
            "R2:  -8.405027617253147e-05\n",
            "MAE:  0.09456214382684353\n",
            "MSE:  0.014111475996715821\n",
            "RMSE:  0.11879173370532067\n"
          ],
          "name": "stdout"
        }
      ]
    },
    {
      "cell_type": "markdown",
      "metadata": {
        "id": "-dcPL48W0B67"
      },
      "source": [
        "###Multipla"
      ]
    },
    {
      "cell_type": "code",
      "metadata": {
        "id": "Ml1Ir6lnpqPe",
        "colab": {
          "base_uri": "https://localhost:8080/",
          "height": 387
        },
        "outputId": "f13f483f-5148-4eec-c470-89a5e4bb7979"
      },
      "source": [
        "# Defina as Variáveis X e Y \n",
        "X = df_regr[['Age','Convenience_Store']]\n",
        "Y = df_regr[['Price']]\n",
        "\n",
        "# Verifique a correlação entre as suas variáveis em relação ao seu target\n",
        "#import seaborn as sns\n",
        "g = sns.PairGrid(df_regr, y_vars=['Price'], x_vars=['Age','Convenience_Store'], height=5)\n",
        "g.map(sns.scatterplot)"
      ],
      "execution_count": null,
      "outputs": [
        {
          "output_type": "execute_result",
          "data": {
            "text/plain": [
              "<seaborn.axisgrid.PairGrid at 0x7fd57e597b50>"
            ]
          },
          "metadata": {
            "tags": []
          },
          "execution_count": 68
        },
        {
          "output_type": "display_data",
          "data": {
            "image/png": "[encoded data removed]",
            "text/plain": [
              "<Figure size 720x360 with 2 Axes>"
            ]
          },
          "metadata": {
            "tags": [],
            "needs_background": "light"
          }
        }
      ]
    },
    {
      "cell_type": "code",
      "metadata": {
        "id": "F48DaX3aWmOl"
      },
      "source": [
        "# Divida seus dados em treino e teste\n",
        "x_train, x_test, y_train, y_test = train_test_split(X, Y, test_size = 0.3, random_state = 0)"
      ],
      "execution_count": null,
      "outputs": []
    },
    {
      "cell_type": "code",
      "metadata": {
        "colab": {
          "base_uri": "https://localhost:8080/"
        },
        "id": "r28vQYh6XDf9",
        "outputId": "86b143e3-89c3-4c97-8ead-c5e619671102"
      },
      "source": [
        "# Normalize ou padronize as colunas necessárias (como visto a cima)\n",
        "\n",
        "# Crie seu objeto de regressão linear\n",
        "lr = LinearRegression()\n",
        "\n",
        "# Treine seu modelo com as variáveis de treino\n",
        "\n",
        "lr.fit(x_train, y_train)"
      ],
      "execution_count": null,
      "outputs": [
        {
          "output_type": "execute_result",
          "data": {
            "text/plain": [
              "LinearRegression(copy_X=True, fit_intercept=True, n_jobs=None, normalize=False)"
            ]
          },
          "metadata": {
            "tags": []
          },
          "execution_count": 70
        }
      ]
    },
    {
      "cell_type": "code",
      "metadata": {
        "colab": {
          "base_uri": "https://localhost:8080/",
          "height": 296
        },
        "id": "X46yDd9aXE-f",
        "outputId": "a0390274-0abb-4108-e153-cec0548caa52"
      },
      "source": [
        "# Verifique as métricas de precisão para treino\n",
        "\n",
        "# Faça a predição\n",
        "\n",
        "Yhat = lr.predict(x_test)\n",
        "\n",
        "sns.regplot(x = y_test, y = Yhat, data = df_regr)"
      ],
      "execution_count": null,
      "outputs": [
        {
          "output_type": "execute_result",
          "data": {
            "text/plain": [
              "<matplotlib.axes._subplots.AxesSubplot at 0x7fd57e3c2950>"
            ]
          },
          "metadata": {
            "tags": []
          },
          "execution_count": 71
        },
        {
          "output_type": "display_data",
          "data": {
            "image/png": "[encoded data removed]",
            "text/plain": [
              "<Figure size 432x288 with 1 Axes>"
            ]
          },
          "metadata": {
            "tags": [],
            "needs_background": "light"
          }
        }
      ]
    },
    {
      "cell_type": "code",
      "metadata": {
        "id": "QXbjs8UbkJKA"
      },
      "source": [
        "# Verifique as métricas de precisão para teste \n",
        "\n",
        "#from sklearn.metrics import r2_score\n",
        "#from sklearn.metrics import mean_absolute_error\n",
        "#from sklearn.metrics import mean_squared_error"
      ],
      "execution_count": null,
      "outputs": []
    },
    {
      "cell_type": "code",
      "metadata": {
        "id": "HhoD5jxDkRx5",
        "colab": {
          "base_uri": "https://localhost:8080/"
        },
        "outputId": "52b15393-e1eb-4b5e-c1bf-abbd76503f1d"
      },
      "source": [
        "print('R2: ', r2_score(y_test, Yhat))\n",
        "print('MAE: ', mean_absolute_error(y_test, Yhat))\n",
        "print('MSE: ', mean_squared_error(y_test, Yhat))\n",
        "print('RMSE: ', np.sqrt(mean_squared_error(y_test, Yhat)))"
      ],
      "execution_count": null,
      "outputs": [
        {
          "output_type": "stream",
          "text": [
            "R2:  0.40034842622957445\n",
            "MAE:  0.06841604831839919\n",
            "MSE:  0.008461257618614616\n",
            "RMSE:  0.09198509454588072\n"
          ],
          "name": "stdout"
        }
      ]
    },
    {
      "cell_type": "markdown",
      "metadata": {
        "id": "Jf-y5C5upsbM"
      },
      "source": [
        "##Regressão Polinomial\n",
        "\n",
        "É uma regressão linear em que os valores da variável independente (predictive) são expandidos em polinômios.\n",
        "\n",
        "Encontra a tendência curvilinha da relação entre as variáveis target e predict.\n",
        "\n",
        "A ordem ou grau da função que determina essa relação é maior que 1 (quadrática, cúbica e etc)"
      ]
    },
    {
      "cell_type": "code",
      "metadata": {
        "id": "ZcpkmDfCoIoq"
      },
      "source": [
        "from sklearn.preprocessing import PolynomialFeatures\n",
        "#from sklearn.linear_model import LinearRegression"
      ],
      "execution_count": null,
      "outputs": []
    },
    {
      "cell_type": "code",
      "metadata": {
        "id": "WPGNVp11qQcX",
        "colab": {
          "base_uri": "https://localhost:8080/",
          "height": 387
        },
        "outputId": "9060a355-d079-4c16-e871-0e5a31f59687"
      },
      "source": [
        "# Defina as Variáveis X e Y \n",
        "X = df_regr[['Age','Convenience_Store']]\n",
        "Y = df_regr[['Price']]\n",
        "\n",
        "# Verifique a correlação entre as suas variáveis em relação ao seu target\n",
        "#import seaborn as sns\n",
        "g = sns.PairGrid(df_regr, y_vars=['Price'], x_vars=['Age','Convenience_Store'], height=5)\n",
        "g.map(sns.scatterplot)"
      ],
      "execution_count": null,
      "outputs": [
        {
          "output_type": "execute_result",
          "data": {
            "text/plain": [
              "<seaborn.axisgrid.PairGrid at 0x7fd57e46f390>"
            ]
          },
          "metadata": {
            "tags": []
          },
          "execution_count": 75
        },
        {
          "output_type": "display_data",
          "data": {
            "image/png": "[encoded data removed]",
            "text/plain": [
              "<Figure size 720x360 with 2 Axes>"
            ]
          },
          "metadata": {
            "tags": [],
            "needs_background": "light"
          }
        }
      ]
    },
    {
      "cell_type": "code",
      "metadata": {
        "colab": {
          "base_uri": "https://localhost:8080/"
        },
        "id": "D-jZP_ebrGXx",
        "outputId": "6935267b-bc7b-411f-f368-fc45ac2ec332"
      },
      "source": [
        "# Crie o modelo polinomial e transforme suas variáveis preditivas (x) em polinômios\n",
        "\n",
        "poly = PolynomialFeatures(degree=2)\n",
        "poly.fit_transform(X)"
      ],
      "execution_count": null,
      "outputs": [
        {
          "output_type": "execute_result",
          "data": {
            "text/plain": [
              "array([[1.        , 0.73059361, 1.        , 0.53376702, 0.73059361,\n",
              "        1.        ],\n",
              "       [1.        , 0.44520548, 0.9       , 0.19820792, 0.40068493,\n",
              "        0.81      ],\n",
              "       [1.        , 0.30365297, 0.5       , 0.09220512, 0.15182648,\n",
              "        0.25      ],\n",
              "       ...,\n",
              "       [1.        , 0.42922374, 0.7       , 0.18423302, 0.30045662,\n",
              "        0.49      ],\n",
              "       [1.        , 0.18493151, 0.5       , 0.03419966, 0.09246575,\n",
              "        0.25      ],\n",
              "       [1.        , 0.14840183, 0.9       , 0.0220231 , 0.13356164,\n",
              "        0.81      ]])"
            ]
          },
          "metadata": {
            "tags": []
          },
          "execution_count": 76
        }
      ]
    },
    {
      "cell_type": "code",
      "metadata": {
        "id": "d9Nok495TTVa"
      },
      "source": [
        "# Divida seus dados em treino e teste\n",
        "x_train, x_test, y_train, y_test = train_test_split(X, Y, test_size = 0.3, random_state = 0)"
      ],
      "execution_count": null,
      "outputs": []
    },
    {
      "cell_type": "code",
      "metadata": {
        "id": "htAlrGYCTXog",
        "colab": {
          "base_uri": "https://localhost:8080/",
          "height": 296
        },
        "outputId": "c396b951-b069-4699-ef70-c0f6f07aa547"
      },
      "source": [
        "# Crie o modelo de regressão linear e realize o calculo de regressão\n",
        "\n",
        "lr = LinearRegression()\n",
        "lr.fit(x_train, y_train)\n",
        "\n",
        "# Faça a predição\n",
        "\n",
        "yhat = lr.predict(x_test)\n",
        "\n",
        "sns.regplot(x = y_test, y = yhat, data = df_regr, order = 2)"
      ],
      "execution_count": null,
      "outputs": [
        {
          "output_type": "execute_result",
          "data": {
            "text/plain": [
              "<matplotlib.axes._subplots.AxesSubplot at 0x7fd57e283b10>"
            ]
          },
          "metadata": {
            "tags": []
          },
          "execution_count": 78
        },
        {
          "output_type": "display_data",
          "data": {
            "image/png": "[encoded data removed]",
            "text/plain": [
              "<Figure size 432x288 with 1 Axes>"
            ]
          },
          "metadata": {
            "tags": [],
            "needs_background": "light"
          }
        }
      ]
    },
    {
      "cell_type": "code",
      "metadata": {
        "id": "EOEE7ExIjY0R"
      },
      "source": [
        "# Avalie o seu modelo \n",
        "\n",
        "#from sklearn.metrics import r2_score\n",
        "#from sklearn.metrics import mean_absolute_error\n",
        "#from sklearn.metrics import mean_squared_error"
      ],
      "execution_count": null,
      "outputs": []
    },
    {
      "cell_type": "code",
      "metadata": {
        "colab": {
          "base_uri": "https://localhost:8080/"
        },
        "id": "JcLy_fi7js99",
        "outputId": "09632b07-82f6-4b72-ea27-b9aaa0800fe4"
      },
      "source": [
        "print('R2: ', r2_score(y_test, yhat))\n",
        "print('MAE: ', mean_absolute_error(y_test, yhat))\n",
        "print('MSE: ', mean_squared_error(y_test, yhat))\n",
        "print('RMSE: ', np.sqrt(mean_squared_error(y_test, yhat)))"
      ],
      "execution_count": null,
      "outputs": [
        {
          "output_type": "stream",
          "text": [
            "R2:  0.40034842622957445\n",
            "MAE:  0.06841604831839919\n",
            "MSE:  0.008461257618614616\n",
            "RMSE:  0.09198509454588072\n"
          ],
          "name": "stdout"
        }
      ]
    },
    {
      "cell_type": "markdown",
      "metadata": {
        "id": "hOGI-UwArGuB"
      },
      "source": [
        "##Regressão de Ridge\n",
        "\n",
        "É um modelo de regressão linear que realiza a **regularização** dos dados, afim de evitar o overfitting.\n",
        "\n",
        "Esta regularização reduz a variância através da penalização dos maiores coeficientes da regressão durante o treino (train).\n",
        "\n",
        "Quanto maior o valor do Alpha, maior a penalização, mas alphas pequenos são ideais para que o seu modelo não passe de um overfitting para um underfitting."
      ]
    },
    {
      "cell_type": "code",
      "metadata": {
        "id": "wZhMal0nr5f8"
      },
      "source": [
        "from sklearn.linear_model import Ridge"
      ],
      "execution_count": null,
      "outputs": []
    },
    {
      "cell_type": "code",
      "metadata": {
        "id": "-63FOVrgn9JR",
        "colab": {
          "base_uri": "https://localhost:8080/",
          "height": 387
        },
        "outputId": "a3a6c31c-8d7a-436f-b248-9f3ee73e2b5a"
      },
      "source": [
        "# Defina as Variáveis X e Y \n",
        "X = df_regr[['Age','Convenience_Store']]\n",
        "Y = df_regr['Price']\n",
        "\n",
        "# Verifique a correlação entre as suas variáveis em relação ao seu target\n",
        "#import seaborn as sns\n",
        "g = sns.PairGrid(df_regr, y_vars=['Price'], x_vars=['Age','Convenience_Store'], height=5)\n",
        "g.map(sns.scatterplot)\n"
      ],
      "execution_count": null,
      "outputs": [
        {
          "output_type": "execute_result",
          "data": {
            "text/plain": [
              "<seaborn.axisgrid.PairGrid at 0x7fd57e32b510>"
            ]
          },
          "metadata": {
            "tags": []
          },
          "execution_count": 82
        },
        {
          "output_type": "display_data",
          "data": {
            "image/png": "[encoded data removed]",
            "text/plain": [
              "<Figure size 720x360 with 2 Axes>"
            ]
          },
          "metadata": {
            "tags": [],
            "needs_background": "light"
          }
        }
      ]
    },
    {
      "cell_type": "code",
      "metadata": {
        "id": "oVqnKqi1oCWj"
      },
      "source": [
        "# Divida seus dados em treino e teste\n",
        "x_train, x_test, y_train, y_test = train_test_split(X, Y, test_size = 0.3, random_state = 0)"
      ],
      "execution_count": null,
      "outputs": []
    },
    {
      "cell_type": "code",
      "metadata": {
        "colab": {
          "base_uri": "https://localhost:8080/"
        },
        "id": "opevE4VyojEO",
        "outputId": "de0e0c9b-42fa-423f-fb08-2fdb53022191"
      },
      "source": [
        "# Crie o modelo de regressão de Ridge e realize o calculo de regressão\n",
        "\n",
        "RR = Ridge(alpha = 1)\n",
        "RR.fit(x_train, y_train)"
      ],
      "execution_count": null,
      "outputs": [
        {
          "output_type": "execute_result",
          "data": {
            "text/plain": [
              "Ridge(alpha=1, copy_X=True, fit_intercept=True, max_iter=None, normalize=False,\n",
              "      random_state=None, solver='auto', tol=0.001)"
            ]
          },
          "metadata": {
            "tags": []
          },
          "execution_count": 84
        }
      ]
    },
    {
      "cell_type": "code",
      "metadata": {
        "colab": {
          "base_uri": "https://localhost:8080/",
          "height": 296
        },
        "id": "-VUlJnsio2k7",
        "outputId": "37a7b5b9-8cb1-4074-c966-2ed369bac0c7"
      },
      "source": [
        "# Faça a predição\n",
        "\n",
        "yhat = RR.predict(x_test)\n",
        "\n",
        "sns.regplot(x = y_test, y = yhat, data = df_regr)"
      ],
      "execution_count": null,
      "outputs": [
        {
          "output_type": "execute_result",
          "data": {
            "text/plain": [
              "<matplotlib.axes._subplots.AxesSubplot at 0x7fd57e162d10>"
            ]
          },
          "metadata": {
            "tags": []
          },
          "execution_count": 85
        },
        {
          "output_type": "display_data",
          "data": {
            "image/png": "[encoded data removed]",
            "text/plain": [
              "<Figure size 432x288 with 1 Axes>"
            ]
          },
          "metadata": {
            "tags": [],
            "needs_background": "light"
          }
        }
      ]
    },
    {
      "cell_type": "code",
      "metadata": {
        "colab": {
          "base_uri": "https://localhost:8080/"
        },
        "id": "gvIamH1JwOsE",
        "outputId": "e6e17f41-ba26-4108-f6c6-f56c7f7d6261"
      },
      "source": [
        "# Avalie seu modelo \n",
        "\n",
        "print('R2: ', r2_score(y_test, yhat))\n",
        "print('MAE: ', mean_absolute_error(y_test, yhat))\n",
        "print('MSE: ', mean_squared_error(y_test, yhat))\n",
        "print('RMSE: ', np.sqrt(mean_squared_error(y_test, yhat)))"
      ],
      "execution_count": null,
      "outputs": [
        {
          "output_type": "stream",
          "text": [
            "R2:  0.3988977082730808\n",
            "MAE:  0.06851549540212373\n",
            "MSE:  0.00848172766972223\n",
            "RMSE:  0.09209629563517867\n"
          ],
          "name": "stdout"
        }
      ]
    },
    {
      "cell_type": "code",
      "metadata": {
        "id": "7aAwgRclM6Bc"
      },
      "source": [
        ""
      ],
      "execution_count": null,
      "outputs": []
    }
  ]
}